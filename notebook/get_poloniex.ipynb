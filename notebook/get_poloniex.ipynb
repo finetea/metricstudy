{
 "cells": [
  {
   "cell_type": "code",
   "execution_count": 27,
   "metadata": {
    "collapsed": false
   },
   "outputs": [
    {
     "data": {
      "text/plain": [
       "'D:\\\\Work\\\\notebook\\\\metricstudy\\\\notebook'"
      ]
     },
     "execution_count": 27,
     "metadata": {},
     "output_type": "execute_result"
    }
   ],
   "source": [
    "%pwd"
   ]
  },
  {
   "cell_type": "code",
   "execution_count": 28,
   "metadata": {
    "collapsed": false
   },
   "outputs": [],
   "source": [
    "BTC_ETH = \"BTC_DASH\"\n",
    "\n",
    "poloniex_url_template = \"https://poloniex.com/public?command=returnTradeHistory&currencyPair=%s&start=%s&end=%s\"\n"
   ]
  },
  {
   "cell_type": "code",
   "execution_count": 29,
   "metadata": {
    "collapsed": false
   },
   "outputs": [],
   "source": [
    "#currency_pair: currency pair expression which is supported in poloniex, to: unixtime value\n",
    "def get_url(currency_pair, end_unix):\n",
    "    SIXMONTHS = 60*60*24*30*6\n",
    "    ONEDAY = 60*60*24\n",
    "    ONWWEEK = 7*ONEDAY\n",
    "    \n",
    "    date_range = ONEDAY\n",
    "    start_unix = end_unix - date_range\n",
    "    url = poloniex_url_template%(currency_pair, start_unix, end_unix)\n",
    "    print (url)\n",
    "    return url"
   ]
  },
  {
   "cell_type": "code",
   "execution_count": 30,
   "metadata": {
    "collapsed": false
   },
   "outputs": [
    {
     "name": "stdout",
     "output_type": "stream",
     "text": [
      "1493372639\n"
     ]
    },
    {
     "data": {
      "text/plain": [
       "1493372639"
      ]
     },
     "execution_count": 30,
     "metadata": {},
     "output_type": "execute_result"
    }
   ],
   "source": [
    "import time\n",
    "import datetime\n",
    "\n",
    "def now():\n",
    "    #now = int(time.gmtime())\n",
    "    now = datetime.datetime.utcnow()\n",
    "    now = int(time.mktime(now.timetuple()))\n",
    "    #print(type(now))\n",
    "    print (now)\n",
    "    return now\n",
    "#1493047494\n",
    "now()"
   ]
  },
  {
   "cell_type": "code",
   "execution_count": 31,
   "metadata": {
    "collapsed": false
   },
   "outputs": [],
   "source": [
    "import datetime\n",
    "\n",
    "def get_gmttime(lastdate):\n",
    "    #print(datetime.datetime.strptime(lastdate, \"%Y-%m-%d %H:%M:%S\"))\n",
    "    endtime = int(datetime.datetime.strptime(lastdate, \"%Y-%m-%d %H:%M:%S\").timestamp())+(9*60*60)\n",
    "    #print(endtime)\n",
    "    return endtime\n"
   ]
  },
  {
   "cell_type": "code",
   "execution_count": 32,
   "metadata": {
    "collapsed": false
   },
   "outputs": [],
   "source": [
    "import requests\n",
    "\n",
    "def get_bth_eth(lasttime):\n",
    "    url = get_url(BTC_ETH, lasttime)\n",
    "    r = requests.get(url)\n",
    "    js = r.json()\n",
    "    \n",
    "    lastdate = js[-1]['date']\n",
    "    endtime = get_gmttime(lastdate)\n",
    "\n",
    "    print (\"downloaded %d items, by %s\"%(len(js), lastdate))\n",
    "    \n",
    "    return (js, endtime)\n",
    "\n",
    "#print(js[:2])\n",
    "#print(js[-2:])"
   ]
  },
  {
   "cell_type": "code",
   "execution_count": 33,
   "metadata": {
    "collapsed": true
   },
   "outputs": [],
   "source": [
    "def get_batch_list(total_size, batch_size=100):\n",
    "    total = [a for a in range(0, total_size)]\n",
    "    #print (total)\n",
    "    \n",
    "    res = list()\n",
    "    while len(total) > 0:\n",
    "        bs = min(batch_size, len(total))\n",
    "        #print (bs)\n",
    "        a = total[:bs]\n",
    "        res.append(a)\n",
    "        if bs < len(total):\n",
    "            b = total[bs:]\n",
    "            total = b\n",
    "        else:\n",
    "            total = []\n",
    "            break\n",
    "    return res\n",
    "    "
   ]
  },
  {
   "cell_type": "code",
   "execution_count": 34,
   "metadata": {
    "collapsed": false
   },
   "outputs": [],
   "source": [
    "import MySQLdb"
   ]
  },
  {
   "cell_type": "code",
   "execution_count": 35,
   "metadata": {
    "collapsed": false
   },
   "outputs": [],
   "source": [
    "conn = MySQLdb.connect(db='poloniex', user='polo', passwd='polo')\n",
    "curr = conn.cursor()"
   ]
  },
  {
   "cell_type": "code",
   "execution_count": null,
   "metadata": {
    "collapsed": false
   },
   "outputs": [],
   "source": []
  },
  {
   "cell_type": "code",
   "execution_count": 36,
   "metadata": {
    "collapsed": true
   },
   "outputs": [],
   "source": [
    "def execute_query(query):\n",
    "    try:\n",
    "        curr.execute(query)\n",
    "    except (MySQLdb.Error, MySQLdb.Warning) as e:\n",
    "        print (\"MySQL Error [%d]: %s\" % (e.args[0], e.args[1]))\n",
    "    except IndexError:\n",
    "        print (\"MySQL Error: %s\" % str(e))\n",
    "\n",
    "def get_db_size():\n",
    "    curr.execute(\"SELECT COUNT(*) FROM btc_eth\")\n",
    "    (number_of_rows,)=curr.fetchone()\n",
    "    return number_of_rows"
   ]
  },
  {
   "cell_type": "code",
   "execution_count": 37,
   "metadata": {
    "collapsed": false
   },
   "outputs": [],
   "source": [
    "#make insert statement\n",
    "def add_data(trade_json):\n",
    "    batch_size = 1000\n",
    "    batch = get_batch_list(len(trade_json), batch_size)\n",
    "\n",
    "    for bs in batch:\n",
    "        query = \"insert into btc_dash values \"\n",
    "\n",
    "        first = True\n",
    "        for b in bs:\n",
    "            item = trade_json[b]\n",
    "            #print (item)\n",
    "\n",
    "            value = \"(%d,%d,%s,%s,%s,'%s','%s')\"%(item['globalTradeID'], item['tradeID'], item['total'], item['rate'], item['amount'], item['type'], item['date'])\n",
    "\n",
    "            if first:\n",
    "                first = False\n",
    "            else:\n",
    "                query += ','\n",
    "\n",
    "            query += value\n",
    "        #print (\"processing %d\"%(len(bs)))\n",
    "        #print (query)\n",
    "        \n",
    "        execute_query(query)\n",
    "        #print (\"done@@\")\n",
    "    \n",
    "    #print (\"begin commit\")\n",
    "    if len(batch) > 0:\n",
    "        conn.commit()\n",
    "    #print (\"end commit\")\n",
    "    \n",
    "    print (\"trade data count = %d\"%(get_db_size()))\n",
    "    "
   ]
  },
  {
   "cell_type": "code",
   "execution_count": 38,
   "metadata": {
    "collapsed": false
   },
   "outputs": [
    {
     "name": "stdout",
     "output_type": "stream",
     "text": [
      "1438978297\n"
     ]
    }
   ],
   "source": [
    "import time\n",
    "import datetime\n",
    "\n",
    "starttime = \"2016-06-22 07:31:22\"\n",
    "starttime = \"2015-08-08 05:11:37\"\n",
    "start_timestamp = int(time.mktime(datetime.datetime.strptime(starttime, \"%Y-%m-%d %H:%M:%S\").timetuple()))\n",
    "print (start_timestamp)\n",
    "    "
   ]
  },
  {
   "cell_type": "code",
   "execution_count": null,
   "metadata": {
    "collapsed": false
   },
   "outputs": [
    {
     "name": "stdout",
     "output_type": "stream",
     "text": [
      "1493372660\n",
      "https://poloniex.com/public?command=returnTradeHistory&currencyPair=BTC_DASH&start=1493286260&end=1493372660\n",
      "downloaded 32168 items, by 2017-04-27 09:44:34\n",
      "1493286274\n",
      "trade data count = 21866853\n",
      "https://poloniex.com/public?command=returnTradeHistory&currencyPair=BTC_DASH&start=1493199874&end=1493286274\n",
      "downloaded 14445 items, by 2017-04-26 09:45:14\n",
      "1493199914\n",
      "MySQL Error [1062]: Duplicate entry '112984103' for key 'PRIMARY'\n",
      "trade data count = 21866853\n",
      "https://poloniex.com/public?command=returnTradeHistory&currencyPair=BTC_DASH&start=1493113514&end=1493199914\n",
      "downloaded 12324 items, by 2017-04-25 09:45:24\n",
      "1493113524\n",
      "MySQL Error [1062]: Duplicate entry '112298114' for key 'PRIMARY'\n",
      "trade data count = 21866853\n",
      "https://poloniex.com/public?command=returnTradeHistory&currencyPair=BTC_DASH&start=1493027124&end=1493113524\n",
      "downloaded 11190 items, by 2017-04-24 09:45:26\n",
      "1493027126\n",
      "MySQL Error [1062]: Duplicate entry '111774510' for key 'PRIMARY'\n",
      "trade data count = 21866853\n",
      "https://poloniex.com/public?command=returnTradeHistory&currencyPair=BTC_DASH&start=1492940726&end=1493027126\n",
      "downloaded 11107 items, by 2017-04-23 09:45:42\n",
      "1492940742\n",
      "MySQL Error [1062]: Duplicate entry '111282420' for key 'PRIMARY'\n",
      "trade data count = 21866853\n",
      "https://poloniex.com/public?command=returnTradeHistory&currencyPair=BTC_DASH&start=1492854342&end=1492940742\n",
      "downloaded 14614 items, by 2017-04-22 09:45:50\n",
      "1492854350\n",
      "MySQL Error [1062]: Duplicate entry '110799976' for key 'PRIMARY'\n",
      "trade data count = 21866853\n",
      "https://poloniex.com/public?command=returnTradeHistory&currencyPair=BTC_DASH&start=1492767950&end=1492854350\n",
      "downloaded 10973 items, by 2017-04-21 09:45:50\n",
      "1492767950\n",
      "MySQL Error [1062]: Duplicate entry '110273837' for key 'PRIMARY'\n",
      "trade data count = 21866853\n",
      "https://poloniex.com/public?command=returnTradeHistory&currencyPair=BTC_DASH&start=1492681550&end=1492767950\n",
      "downloaded 16698 items, by 2017-04-20 09:46:02\n",
      "1492681562\n",
      "MySQL Error [1062]: Duplicate entry '109756134' for key 'PRIMARY'\n",
      "trade data count = 21866853\n",
      "https://poloniex.com/public?command=returnTradeHistory&currencyPair=BTC_DASH&start=1492595162&end=1492681562\n",
      "downloaded 14470 items, by 2017-04-19 09:46:04\n",
      "1492595164\n",
      "MySQL Error [1062]: Duplicate entry '109099271' for key 'PRIMARY'\n",
      "trade data count = 21866853\n",
      "https://poloniex.com/public?command=returnTradeHistory&currencyPair=BTC_DASH&start=1492508764&end=1492595164\n",
      "downloaded 20468 items, by 2017-04-18 09:46:27\n",
      "1492508787\n",
      "MySQL Error [1062]: Duplicate entry '108464528' for key 'PRIMARY'\n"
     ]
    }
   ],
   "source": [
    "lasttime = now()\n",
    "#lasttime = start_timestamp\n",
    "prev_lasttime = 0\n",
    "while prev_lasttime != lasttime:\n",
    "    prev_lasttime = lasttime\n",
    "    (js_result, lasttime) = get_bth_eth(lasttime)\n",
    "    print (lasttime)\n",
    "    #print js_result\n",
    "    #continue\n",
    "        \n",
    "    if len(js_result) == 0:\n",
    "        break\n",
    "    \n",
    "    #add trade data to db\n",
    "    add_data(js_result)\n",
    "    "
   ]
  },
  {
   "cell_type": "code",
   "execution_count": 35,
   "metadata": {
    "collapsed": false
   },
   "outputs": [
    {
     "data": {
      "text/plain": [
       "30452"
      ]
     },
     "execution_count": 35,
     "metadata": {},
     "output_type": "execute_result"
    }
   ],
   "source": [
    "len(js_result) "
   ]
  },
  {
   "cell_type": "code",
   "execution_count": 15,
   "metadata": {
    "collapsed": false
   },
   "outputs": [],
   "source": []
  },
  {
   "cell_type": "code",
   "execution_count": null,
   "metadata": {
    "collapsed": false
   },
   "outputs": [],
   "source": []
  },
  {
   "cell_type": "code",
   "execution_count": null,
   "metadata": {
    "collapsed": true
   },
   "outputs": [],
   "source": [
    "\n"
   ]
  },
  {
   "cell_type": "code",
   "execution_count": null,
   "metadata": {
    "collapsed": false
   },
   "outputs": [],
   "source": []
  },
  {
   "cell_type": "code",
   "execution_count": null,
   "metadata": {
    "collapsed": true
   },
   "outputs": [],
   "source": []
  }
 ],
 "metadata": {
  "anaconda-cloud": {},
  "kernelspec": {
   "display_name": "Python [conda root]",
   "language": "python",
   "name": "conda-root-py"
  },
  "language_info": {
   "codemirror_mode": {
    "name": "ipython",
    "version": 3
   },
   "file_extension": ".py",
   "mimetype": "text/x-python",
   "name": "python",
   "nbconvert_exporter": "python",
   "pygments_lexer": "ipython3",
   "version": "3.5.2"
  }
 },
 "nbformat": 4,
 "nbformat_minor": 1
}
