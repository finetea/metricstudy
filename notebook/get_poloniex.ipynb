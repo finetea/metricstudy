{
 "cells": [
  {
   "cell_type": "code",
   "execution_count": 1,
   "metadata": {
    "collapsed": false
   },
   "outputs": [
    {
     "data": {
      "text/plain": [
       "'D:\\\\Work\\\\notebook\\\\metricstudy\\\\notebook'"
      ]
     },
     "execution_count": 1,
     "metadata": {},
     "output_type": "execute_result"
    }
   ],
   "source": [
    "%pwd"
   ]
  },
  {
   "cell_type": "code",
   "execution_count": 20,
   "metadata": {
    "collapsed": false
   },
   "outputs": [],
   "source": [
    "BTC_ETH = \"BTC_ETH\"\n",
    "\n",
    "poloniex_url_template = \"https://poloniex.com/public?command=returnTradeHistory&currencyPair=%s&start=%s&end=%s\"\n"
   ]
  },
  {
   "cell_type": "code",
   "execution_count": 21,
   "metadata": {
    "collapsed": false
   },
   "outputs": [],
   "source": [
    "#currency_pair: currency pair expression which is supported in poloniex, to: unixtime value\n",
    "def get_url(currency_pair, end_unix):\n",
    "    sixmonths = 60*60*24*30*6\n",
    "    start_unix = end_unix - sixmonths\n",
    "    url = poloniex_url_template%(currency_pair, start_unix, end_unix)\n",
    "    return url"
   ]
  },
  {
   "cell_type": "code",
   "execution_count": 22,
   "metadata": {
    "collapsed": false
   },
   "outputs": [
    {
     "name": "stdout",
     "output_type": "stream",
     "text": [
      "<class 'int'>\n"
     ]
    },
    {
     "data": {
      "text/plain": [
       "1493112759"
      ]
     },
     "execution_count": 22,
     "metadata": {},
     "output_type": "execute_result"
    }
   ],
   "source": [
    "import time\n",
    "import datetime\n",
    "\n",
    "def now():\n",
    "    #now = int(time.gmtime())\n",
    "    now = datetime.datetime.utcnow()\n",
    "    now = int(time.mktime(now.timetuple()))\n",
    "    print(type(now))\n",
    "    return now\n",
    "#1493047494\n",
    "now()"
   ]
  },
  {
   "cell_type": "code",
   "execution_count": 23,
   "metadata": {
    "collapsed": false
   },
   "outputs": [
    {
     "name": "stdout",
     "output_type": "stream",
     "text": [
      "<class 'int'>\n",
      "https://poloniex.com/public?command=returnTradeHistory&currencyPair=BTC_ETH&start=1477560759&end=1493112759\n"
     ]
    }
   ],
   "source": [
    "url = get_url(BTC_ETH, now())\n",
    "print (url)"
   ]
  },
  {
   "cell_type": "code",
   "execution_count": 24,
   "metadata": {
    "collapsed": false
   },
   "outputs": [
    {
     "name": "stdout",
     "output_type": "stream",
     "text": [
      "[{'globalTradeID': 111770492, 'amount': '1.66030200', 'rate': '0.03973989', 'date': '2017-04-25 09:32:39', 'tradeID': 23085022, 'type': 'sell', 'total': '0.06598021'}, {'globalTradeID': 111770491, 'amount': '0.06898886', 'rate': '0.03973989', 'date': '2017-04-25 09:32:39', 'tradeID': 23085021, 'type': 'sell', 'total': '0.00274160'}]\n",
      "[{'globalTradeID': 111094460, 'amount': '1.01096137', 'rate': '0.03919504', 'date': '2017-04-23 23:59:38', 'tradeID': 23035024, 'type': 'sell', 'total': '0.03962467'}, {'globalTradeID': 111094418, 'amount': '0.00073198', 'rate': '0.03919504', 'date': '2017-04-23 23:59:25', 'tradeID': 23035023, 'type': 'sell', 'total': '0.00002868'}]\n"
     ]
    }
   ],
   "source": [
    "import requests\n",
    "r = requests.get(url)\n",
    "js = r.json()\n",
    "print(js[:2])\n",
    "print(js[-2:])"
   ]
  },
  {
   "cell_type": "code",
   "execution_count": 25,
   "metadata": {
    "collapsed": false
   },
   "outputs": [
    {
     "name": "stdout",
     "output_type": "stream",
     "text": [
      "2017-04-23 23:59:25\n"
     ]
    }
   ],
   "source": [
    "lastdate = js[-1]['date']\n",
    "print(lastdate)\n"
   ]
  },
  {
   "cell_type": "code",
   "execution_count": 26,
   "metadata": {
    "collapsed": false
   },
   "outputs": [],
   "source": [
    "import datetime\n",
    "\n",
    "def get_gmttime(lastdate):\n",
    "    #print(datetime.datetime.strptime(lastdate, \"%Y-%m-%d %H:%M:%S\"))\n",
    "    endtime = int(datetime.datetime.strptime(lastdate, \"%Y-%m-%d %H:%M:%S\").timestamp())+(9*60*60)\n",
    "    #print(endtime)\n",
    "    return endtime\n",
    "#1493015351\n",
    "#1492857459"
   ]
  },
  {
   "cell_type": "code",
   "execution_count": 27,
   "metadata": {
    "collapsed": false
   },
   "outputs": [
    {
     "name": "stdout",
     "output_type": "stream",
     "text": [
      "https://poloniex.com/public?command=returnTradeHistory&currencyPair=BTC_ETH&start=1477439965&end=1492991965\n"
     ]
    }
   ],
   "source": [
    "endtime = get_gmttime(lastdate)\n",
    "\n",
    "url2 = get_url(BTC_ETH, endtime)\n",
    "print (url2)"
   ]
  },
  {
   "cell_type": "code",
   "execution_count": 28,
   "metadata": {
    "collapsed": false,
    "scrolled": true
   },
   "outputs": [
    {
     "name": "stdout",
     "output_type": "stream",
     "text": [
      "[{'globalTradeID': 111094418, 'amount': '0.00073198', 'rate': '0.03919504', 'date': '2017-04-23 23:59:25', 'tradeID': 23035023, 'type': 'sell', 'total': '0.00002868'}, {'globalTradeID': 111094413, 'amount': '0.00186834', 'rate': '0.03919504', 'date': '2017-04-23 23:59:23', 'tradeID': 23035022, 'type': 'sell', 'total': '0.00007322'}]\n",
      "[{'globalTradeID': 110369272, 'amount': '51.46261882', 'rate': '0.03980019', 'date': '2017-04-22 13:52:54', 'tradeID': 22985025, 'type': 'sell', 'total': '2.04822200'}, {'globalTradeID': 110369250, 'amount': '2.00000000', 'rate': '0.03984998', 'date': '2017-04-22 13:52:53', 'tradeID': 22985024, 'type': 'buy', 'total': '0.07969996'}]\n"
     ]
    }
   ],
   "source": [
    "import requests\n",
    "r = requests.get(url2)\n",
    "js2 = r.json()\n",
    "print(js2[:2])\n",
    "print(js2[-2:])"
   ]
  },
  {
   "cell_type": "code",
   "execution_count": 29,
   "metadata": {
    "collapsed": true
   },
   "outputs": [],
   "source": [
    "def get_batch_list(total_size, batch_size=100):\n",
    "    total = [a for a in range(0, total_size)]\n",
    "    print (total)\n",
    "    \n",
    "    res = list()\n",
    "    while len(total) > 0:\n",
    "        bs = min(batch_size, len(total))\n",
    "        print (bs)\n",
    "        a = total[:bs]\n",
    "        res.append(a)\n",
    "        if bs < len(total):\n",
    "            b = total[bs:]\n",
    "            total = b\n",
    "        else:\n",
    "            total = []\n",
    "            break\n",
    "    return res\n",
    "    "
   ]
  },
  {
   "cell_type": "code",
   "execution_count": 30,
   "metadata": {
    "collapsed": false
   },
   "outputs": [],
   "source": [
    "import MySQLdb"
   ]
  },
  {
   "cell_type": "code",
   "execution_count": 31,
   "metadata": {
    "collapsed": false
   },
   "outputs": [
    {
     "data": {
      "text/plain": [
       "50000"
      ]
     },
     "execution_count": 31,
     "metadata": {},
     "output_type": "execute_result"
    }
   ],
   "source": [
    "len(js)"
   ]
  },
  {
   "cell_type": "code",
   "execution_count": 32,
   "metadata": {
    "collapsed": false
   },
   "outputs": [],
   "source": [
    "db = MySQLdb.connect(db='poloniex', user='polo', passwd='polo')"
   ]
  },
  {
   "cell_type": "code",
   "execution_count": 33,
   "metadata": {
    "collapsed": true
   },
   "outputs": [],
   "source": [
    "curr = db.cursor()"
   ]
  },
  {
   "cell_type": "code",
   "execution_count": 36,
   "metadata": {
    "collapsed": false
   },
   "outputs": [
    {
     "name": "stdout",
     "output_type": "stream",
     "text": [
      "[0, 1, 2, 3, 4, 5, 6, 7, 8, 9, 10, 11, 12, 13, 14, 15, 16, 17, 18, 19, 20, 21, 22, 23, 24, 25, 26, 27, 28, 29, 30]\n",
      "5\n",
      "5\n",
      "5\n",
      "5\n",
      "5\n",
      "5\n",
      "1\n",
      "insert into btc_eth values (111770492,23085022,0.06598021,0.03973989,1.66030200,'sell','2017-04-25 09:32:39'),(111770491,23085021,0.00274160,0.03973989,0.06898886,'sell','2017-04-25 09:32:39'),(111770483,23085020,0.00074999,0.03973989,0.01887272,'sell','2017-04-25 09:32:38'),(111770480,23085019,0.00200275,0.03976803,0.05036082,'buy','2017-04-25 09:32:38'),(111770479,23085018,0.00083882,0.03973989,0.02110785,'sell','2017-04-25 09:32:38')\n",
      "insert into btc_eth values (111770474,23085017,0.00002130,0.03976803,0.00053571,'buy','2017-04-25 09:32:37'),(111770456,23085016,0.01109272,0.03973989,0.27913319,'sell','2017-04-25 09:32:34'),(111770455,23085015,0.06838721,0.03973998,1.72086681,'sell','2017-04-25 09:32:34'),(111770454,23085014,0.00024930,0.03973998,0.00627347,'sell','2017-04-25 09:32:33'),(111770451,23085013,0.13003716,0.03976698,3.26997837,'sell','2017-04-25 09:32:32')\n",
      "insert into btc_eth values (111770446,23085012,0.08933050,0.03976393,2.24652103,'buy','2017-04-25 09:32:31'),(111770445,23085011,0.01842805,0.03976392,0.46343647,'buy','2017-04-25 09:32:31'),(111770444,23085010,0.21743564,0.03973999,5.47145708,'buy','2017-04-25 09:32:31'),(111770443,23085009,0.01986999,0.03973998,0.50000000,'buy','2017-04-25 09:32:30'),(111770438,23085008,4.34815850,0.03973999,109.41518864,'buy','2017-04-25 09:32:30')\n",
      "insert into btc_eth values (111770437,23085007,0.00042964,0.03973998,0.01081136,'buy','2017-04-25 09:32:30'),(111770399,23085006,0.00000101,0.03973989,0.00002566,'sell','2017-04-25 09:32:26'),(111770398,23085005,0.00202673,0.03973989,0.05100000,'sell','2017-04-25 09:32:26'),(111770372,23085004,0.00147139,0.03973989,0.03702553,'buy','2017-04-25 09:32:18'),(111770357,23085003,0.00000215,0.03973989,0.00005421,'buy','2017-04-25 09:32:14')\n",
      "insert into btc_eth values (111770354,23085002,0.01103576,0.03972070,0.27783409,'sell','2017-04-25 09:32:13'),(111770353,23085001,0.00209138,0.03972071,0.05265225,'sell','2017-04-25 09:32:13'),(111770352,23085000,0.00010001,0.03972504,0.00251756,'sell','2017-04-25 09:32:13'),(111770351,23084999,0.00981557,0.03973980,0.24699610,'sell','2017-04-25 09:32:13'),(111770247,23084998,0.00002645,0.03973989,0.00066561,'buy','2017-04-25 09:31:51')\n",
      "insert into btc_eth values (111770246,23084997,0.00104147,0.03973988,0.02620723,'buy','2017-04-25 09:31:51'),(111770204,23084996,0.00074999,0.03972500,0.01887979,'sell','2017-04-25 09:31:38'),(111770194,23084995,0.00748314,0.03972500,0.18837369,'sell','2017-04-25 09:31:36'),(111770192,23084994,0.00748748,0.03972500,0.18848301,'sell','2017-04-25 09:31:36'),(111770186,23084993,0.00000089,0.03972500,0.00002265,'sell','2017-04-25 09:31:35')\n",
      "insert into btc_eth values (111770177,23084992,0.00025645,0.03972072,0.00645657,'sell','2017-04-25 09:31:33')\n"
     ]
    }
   ],
   "source": [
    "#make insert statement\n",
    "\n",
    "batch_size = 10\n",
    "\n",
    "batch = get_batch_list(31, 5)\n",
    "\n",
    "for bs in batch:\n",
    "    query = \"insert into btc_eth values \"\n",
    "\n",
    "    first = True\n",
    "    for b in bs:\n",
    "        item = js[b]\n",
    "        #print (item)\n",
    "\n",
    "        value = \"(%d,%d,%s,%s,%s,'%s','%s')\"%(item['globalTradeID'], item['tradeID'], item['total'], item['rate'], item['amount'], item['type'], item['date'])\n",
    "\n",
    "        if first:\n",
    "            first = False\n",
    "        else:\n",
    "            query += ','\n",
    "\n",
    "        query += value\n",
    "\n",
    "    print (query)\n"
   ]
  },
  {
   "cell_type": "code",
   "execution_count": 26,
   "metadata": {
    "collapsed": false
   },
   "outputs": [
    {
     "name": "stdout",
     "output_type": "stream",
     "text": [
      "100.76937592,buy,23046136,111224587,0.03980534,2017-04-24 07:31:45,4.01115927\n",
      "0.26627370,sell,23046135,111224585,0.03980532,2017-04-24 07:31:45,0.01059910\n",
      "8.13710240,buy,23046134,111224564,0.03980536,2017-04-24 07:31:41,0.32390029\n",
      "0.04289760,buy,23046133,111224563,0.03980533,2017-04-24 07:31:41,0.00170755\n",
      "0.25122257,sell,23046132,111224479,0.03980534,2017-04-24 07:31:17,0.00999999\n",
      "0.08995801,buy,23046131,111224476,0.03980536,2017-04-24 07:31:14,0.00358081\n",
      "2.91004199,buy,23046130,111224475,0.03980533,2017-04-24 07:31:14,0.11583518\n",
      "0.29000000,sell,23046129,111224471,0.03980532,2017-04-24 07:31:13,0.01154354\n",
      "0.28640127,buy,23046128,111224382,0.03980534,2017-04-24 07:30:57,0.01140029\n",
      "0.15815875,sell,23046127,111224379,0.03980532,2017-04-24 07:30:57,0.00629555\n"
     ]
    }
   ],
   "source": [
    "for item in js:\n",
    "    print (','.join([str(s) for s in item.values()]))\n",
    "    limit -= 1\n",
    "    if limit == 0:\n",
    "        break"
   ]
  },
  {
   "cell_type": "code",
   "execution_count": 15,
   "metadata": {
    "collapsed": false
   },
   "outputs": [],
   "source": []
  },
  {
   "cell_type": "code",
   "execution_count": 16,
   "metadata": {
    "collapsed": false
   },
   "outputs": [
    {
     "name": "stdout",
     "output_type": "stream",
     "text": [
      "[0, 1, 2, 3, 4, 5, 6, 7, 8, 9, 10, 11, 12, 13, 14, 15, 16, 17]\n",
      "5\n",
      "5\n",
      "5\n",
      "3\n"
     ]
    },
    {
     "data": {
      "text/plain": [
       "[[0, 1, 2, 3, 4], [5, 6, 7, 8, 9], [10, 11, 12, 13, 14], [15, 16, 17]]"
      ]
     },
     "execution_count": 16,
     "metadata": {},
     "output_type": "execute_result"
    }
   ],
   "source": [
    "get_batch_list(18, 5)"
   ]
  },
  {
   "cell_type": "code",
   "execution_count": null,
   "metadata": {
    "collapsed": true
   },
   "outputs": [],
   "source": [
    "\n"
   ]
  },
  {
   "cell_type": "code",
   "execution_count": 9,
   "metadata": {
    "collapsed": false
   },
   "outputs": [
    {
     "name": "stdout",
     "output_type": "stream",
     "text": [
      "[0, 1, 2, 3, 4, 5, 6, 7, 8, 9, 10, 11, 12, 13, 14, 15, 16, 17, 18, 19, 20, 21, 22, 23, 24, 25, 26, 27, 28, 29, 30, 31, 32, 33, 34, 35, 36, 37, 38, 39, 40, 41, 42, 43, 44, 45, 46, 47, 48, 49, 50, 51, 52, 53, 54, 55, 56, 57, 58, 59, 60, 61, 62, 63, 64, 65, 66, 67, 68, 69, 70, 71, 72, 73, 74, 75, 76, 77, 78, 79, 80, 81, 82, 83, 84, 85, 86, 87, 88, 89, 90, 91, 92, 93, 94]\n"
     ]
    }
   ],
   "source": [
    "print(b)"
   ]
  },
  {
   "cell_type": "code",
   "execution_count": null,
   "metadata": {
    "collapsed": true
   },
   "outputs": [],
   "source": [
    "try:\n",
    "    curr.execute(query)\n",
    "except (MySQLdb.Error, MySQLdb.Warning) as e:\n",
    "    print (\"MySQL Error [%d]: %s\" % (e.args[0], e.args[1]))\n",
    "except IndexError:\n",
    "    print (\"MySQL Error: %s\" % str(e))"
   ]
  }
 ],
 "metadata": {
  "anaconda-cloud": {},
  "kernelspec": {
   "display_name": "Python [conda root]",
   "language": "python",
   "name": "conda-root-py"
  },
  "language_info": {
   "codemirror_mode": {
    "name": "ipython",
    "version": 3
   },
   "file_extension": ".py",
   "mimetype": "text/x-python",
   "name": "python",
   "nbconvert_exporter": "python",
   "pygments_lexer": "ipython3",
   "version": "3.5.2"
  }
 },
 "nbformat": 4,
 "nbformat_minor": 1
}
