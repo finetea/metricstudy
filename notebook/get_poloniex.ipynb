{
 "cells": [
  {
   "cell_type": "code",
   "execution_count": 1,
   "metadata": {
    "collapsed": false
   },
   "outputs": [
    {
     "data": {
      "text/plain": [
       "'D:\\\\Work\\\\notebook\\\\metricstudy\\\\notebook'"
      ]
     },
     "execution_count": 1,
     "metadata": {},
     "output_type": "execute_result"
    }
   ],
   "source": [
    "%pwd"
   ]
  },
  {
   "cell_type": "code",
   "execution_count": 2,
   "metadata": {
    "collapsed": false
   },
   "outputs": [],
   "source": [
    "BTC_ETH = \"BTC_ETH\"\n",
    "\n",
    "poloniex_url_template = \"https://poloniex.com/public?command=returnTradeHistory&currencyPair=%s&start=%s&end=%s\"\n"
   ]
  },
  {
   "cell_type": "code",
   "execution_count": 3,
   "metadata": {
    "collapsed": false
   },
   "outputs": [],
   "source": [
    "#currency_pair: currency pair expression which is supported in poloniex, to: unixtime value\n",
    "def get_url(currency_pair, end_unix):\n",
    "    sixmonths = 60*60*24*30*6\n",
    "    start_unix = end_unix - sixmonths\n",
    "    url = poloniex_url_template%(currency_pair, start_unix, end_unix)\n",
    "    return url"
   ]
  },
  {
   "cell_type": "code",
   "execution_count": 4,
   "metadata": {
    "collapsed": false
   },
   "outputs": [
    {
     "name": "stdout",
     "output_type": "stream",
     "text": [
      "<class 'int'>\n"
     ]
    },
    {
     "data": {
      "text/plain": [
       "1493019110"
      ]
     },
     "execution_count": 4,
     "metadata": {},
     "output_type": "execute_result"
    }
   ],
   "source": [
    "import time\n",
    "import datetime\n",
    "\n",
    "def now():\n",
    "    #now = int(time.gmtime())\n",
    "    now = datetime.datetime.utcnow()\n",
    "    now = int(time.mktime(now.timetuple()))\n",
    "    print(type(now))\n",
    "    return now\n",
    "#1493047494\n",
    "now()"
   ]
  },
  {
   "cell_type": "code",
   "execution_count": 5,
   "metadata": {
    "collapsed": false
   },
   "outputs": [
    {
     "name": "stdout",
     "output_type": "stream",
     "text": [
      "<class 'int'>\n",
      "https://poloniex.com/public?command=returnTradeHistory&currencyPair=BTC_ETH&start=1477467111&end=1493019111\n"
     ]
    }
   ],
   "source": [
    "url = get_url(BTC_ETH, now())\n",
    "print (url)"
   ]
  },
  {
   "cell_type": "code",
   "execution_count": 6,
   "metadata": {
    "collapsed": false
   },
   "outputs": [
    {
     "name": "stdout",
     "output_type": "stream",
     "text": [
      "[{'amount': '100.76937592', 'type': 'buy', 'tradeID': 23046136, 'globalTradeID': 111224587, 'rate': '0.03980534', 'date': '2017-04-24 07:31:45', 'total': '4.01115927'}, {'amount': '0.26627370', 'type': 'sell', 'tradeID': 23046135, 'globalTradeID': 111224585, 'rate': '0.03980532', 'date': '2017-04-24 07:31:45', 'total': '0.01059910'}]\n",
      "[{'amount': '0.03829461', 'type': 'buy', 'tradeID': 22996138, 'globalTradeID': 110532237, 'rate': '0.03916990', 'date': '2017-04-22 20:34:45', 'total': '0.00149999'}, {'amount': '0.01917913', 'type': 'buy', 'tradeID': 22996137, 'globalTradeID': 110532236, 'rate': '0.03910500', 'date': '2017-04-22 20:34:45', 'total': '0.00074999'}]\n"
     ]
    }
   ],
   "source": [
    "import requests\n",
    "r = requests.get(url)\n",
    "js = r.json()\n",
    "print(js[:2])\n",
    "print(js[-2:])"
   ]
  },
  {
   "cell_type": "code",
   "execution_count": 7,
   "metadata": {
    "collapsed": false
   },
   "outputs": [
    {
     "name": "stdout",
     "output_type": "stream",
     "text": [
      "2017-04-22 20:34:45\n"
     ]
    }
   ],
   "source": [
    "lastdate = js[-1]['date']\n",
    "print(lastdate)\n"
   ]
  },
  {
   "cell_type": "code",
   "execution_count": 8,
   "metadata": {
    "collapsed": false
   },
   "outputs": [],
   "source": [
    "import datetime\n",
    "\n",
    "def get_gmttime(lastdate):\n",
    "    #print(datetime.datetime.strptime(lastdate, \"%Y-%m-%d %H:%M:%S\"))\n",
    "    endtime = int(datetime.datetime.strptime(lastdate, \"%Y-%m-%d %H:%M:%S\").timestamp())+(9*60*60)\n",
    "    #print(endtime)\n",
    "    return endtime\n",
    "#1493015351\n",
    "#1492857459"
   ]
  },
  {
   "cell_type": "code",
   "execution_count": 9,
   "metadata": {
    "collapsed": false
   },
   "outputs": [
    {
     "name": "stdout",
     "output_type": "stream",
     "text": [
      "https://poloniex.com/public?command=returnTradeHistory&currencyPair=BTC_ETH&start=1477341285&end=1492893285\n"
     ]
    }
   ],
   "source": [
    "endtime = get_gmttime(lastdate)\n",
    "\n",
    "url2 = get_url(BTC_ETH, endtime)\n",
    "print (url2)"
   ]
  },
  {
   "cell_type": "code",
   "execution_count": 10,
   "metadata": {
    "collapsed": false,
    "scrolled": true
   },
   "outputs": [
    {
     "name": "stdout",
     "output_type": "stream",
     "text": [
      "[{'amount': '0.53783626', 'type': 'buy', 'tradeID': 22996139, 'globalTradeID': 110532238, 'rate': '0.03918300', 'date': '2017-04-22 20:34:45', 'total': '0.02107403'}, {'amount': '0.03829461', 'type': 'buy', 'tradeID': 22996138, 'globalTradeID': 110532237, 'rate': '0.03916990', 'date': '2017-04-22 20:34:45', 'total': '0.00149999'}]\n",
      "[{'amount': '71.51430000', 'type': 'buy', 'tradeID': 22946141, 'globalTradeID': 109768352, 'rate': '0.03917400', 'date': '2017-04-21 10:27:03', 'total': '2.80150118'}, {'amount': '0.00662976', 'type': 'buy', 'tradeID': 22946140, 'globalTradeID': 109768351, 'rate': '0.03913285', 'date': '2017-04-21 10:27:03', 'total': '0.00025944'}]\n"
     ]
    }
   ],
   "source": [
    "import requests\n",
    "r = requests.get(url2)\n",
    "js2 = r.json()\n",
    "print(js2[:2])\n",
    "print(js2[-2:])"
   ]
  },
  {
   "cell_type": "code",
   "execution_count": 36,
   "metadata": {
    "collapsed": false
   },
   "outputs": [],
   "source": [
    "import MySQLdb"
   ]
  },
  {
   "cell_type": "code",
   "execution_count": 37,
   "metadata": {
    "collapsed": false
   },
   "outputs": [
    {
     "data": {
      "text/plain": [
       "50000"
      ]
     },
     "execution_count": 37,
     "metadata": {},
     "output_type": "execute_result"
    }
   ],
   "source": [
    "len(js)"
   ]
  },
  {
   "cell_type": "code",
   "execution_count": 38,
   "metadata": {
    "collapsed": false
   },
   "outputs": [
    {
     "data": {
      "text/plain": [
       "50000"
      ]
     },
     "execution_count": 38,
     "metadata": {},
     "output_type": "execute_result"
    }
   ],
   "source": [
    "len(js2)"
   ]
  },
  {
   "cell_type": "code",
   "execution_count": 39,
   "metadata": {
    "collapsed": false
   },
   "outputs": [],
   "source": [
    "db = MySQLdb.connect(db='poloniex', user='polo', passwd='polo')"
   ]
  },
  {
   "cell_type": "code",
   "execution_count": 40,
   "metadata": {
    "collapsed": true
   },
   "outputs": [],
   "source": [
    "curr = db.cursor()"
   ]
  },
  {
   "cell_type": "code",
   "execution_count": 43,
   "metadata": {
    "collapsed": false
   },
   "outputs": [
    {
     "name": "stdout",
     "output_type": "stream",
     "text": [
      "insert into btc_eth values(111224587,23046136,4.01115927,0.03980534,100.76937592,'buy','2017-04-24 07:31:45')\n",
      "MySQL Error [1062]: Duplicate entry '111224587' for key 'PRIMARY'\n",
      "insert into btc_eth values(111224585,23046135,0.01059910,0.03980532,0.26627370,'sell','2017-04-24 07:31:45')\n",
      "MySQL Error [1062]: Duplicate entry '111224585' for key 'PRIMARY'\n"
     ]
    }
   ],
   "source": [
    "for item in js[:2]:\n",
    "    #print (item)\n",
    "    value = \"%d,%d,%s,%s,%s,'%s','%s'\"%(item['globalTradeID'], item['tradeID'], item['total'], item['rate'], item['amount'], item['type'], item['date'])\n",
    "    \n",
    "    try:\n",
    "        query = \"insert into btc_eth values(%s)\"%(value)\n",
    "        print (query)\n",
    "        curr.execute(query)\n",
    "    except (MySQLdb.Error, MySQLdb.Warning) as e:\n",
    "        print (\"MySQL Error [%d]: %s\" % (e.args[0], e.args[1]))\n",
    "    except IndexError:\n",
    "        print (\"MySQL Error: %s\" % str(e))"
   ]
  },
  {
   "cell_type": "code",
   "execution_count": 26,
   "metadata": {
    "collapsed": false
   },
   "outputs": [
    {
     "name": "stdout",
     "output_type": "stream",
     "text": [
      "100.76937592,buy,23046136,111224587,0.03980534,2017-04-24 07:31:45,4.01115927\n",
      "0.26627370,sell,23046135,111224585,0.03980532,2017-04-24 07:31:45,0.01059910\n",
      "8.13710240,buy,23046134,111224564,0.03980536,2017-04-24 07:31:41,0.32390029\n",
      "0.04289760,buy,23046133,111224563,0.03980533,2017-04-24 07:31:41,0.00170755\n",
      "0.25122257,sell,23046132,111224479,0.03980534,2017-04-24 07:31:17,0.00999999\n",
      "0.08995801,buy,23046131,111224476,0.03980536,2017-04-24 07:31:14,0.00358081\n",
      "2.91004199,buy,23046130,111224475,0.03980533,2017-04-24 07:31:14,0.11583518\n",
      "0.29000000,sell,23046129,111224471,0.03980532,2017-04-24 07:31:13,0.01154354\n",
      "0.28640127,buy,23046128,111224382,0.03980534,2017-04-24 07:30:57,0.01140029\n",
      "0.15815875,sell,23046127,111224379,0.03980532,2017-04-24 07:30:57,0.00629555\n"
     ]
    }
   ],
   "source": [
    "for item in js:\n",
    "    print (','.join([str(s) for s in item.values()]))\n",
    "    limit -= 1\n",
    "    if limit == 0:\n",
    "        break"
   ]
  },
  {
   "cell_type": "code",
   "execution_count": null,
   "metadata": {
    "collapsed": true
   },
   "outputs": [],
   "source": []
  }
 ],
 "metadata": {
  "anaconda-cloud": {},
  "kernelspec": {
   "display_name": "Python [conda root]",
   "language": "python",
   "name": "conda-root-py"
  },
  "language_info": {
   "codemirror_mode": {
    "name": "ipython",
    "version": 3
   },
   "file_extension": ".py",
   "mimetype": "text/x-python",
   "name": "python",
   "nbconvert_exporter": "python",
   "pygments_lexer": "ipython3",
   "version": "3.5.2"
  }
 },
 "nbformat": 4,
 "nbformat_minor": 1
}
