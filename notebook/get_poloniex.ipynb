{
 "cells": [
  {
   "cell_type": "code",
   "execution_count": 3,
   "metadata": {
    "collapsed": false
   },
   "outputs": [
    {
     "data": {
      "text/plain": [
       "'D:\\\\Work\\\\notebook\\\\metricstudy\\\\notebook'"
      ]
     },
     "execution_count": 3,
     "metadata": {},
     "output_type": "execute_result"
    }
   ],
   "source": [
    "%pwd"
   ]
  },
  {
   "cell_type": "code",
   "execution_count": 28,
   "metadata": {
    "collapsed": false
   },
   "outputs": [],
   "source": [
    "BTC_ETH = \"BTC_ETH\"\n",
    "\n",
    "poloniex_url_template = \"https://poloniex.com/public?command=returnTradeHistory&currencyPair=%s&start=%s&end=%s\"\n"
   ]
  },
  {
   "cell_type": "code",
   "execution_count": 29,
   "metadata": {
    "collapsed": false
   },
   "outputs": [],
   "source": [
    "#currency_pair: currency pair expression which is supported in poloniex, to: unixtime value\n",
    "def get_url(currency_pair, end_unix):\n",
    "    sixmonths = 60*60*24*30*6\n",
    "    start_unix = end_unix - sixmonths\n",
    "    url = poloniex_url_template%(currency_pair, start_unix, end_unix)\n",
    "    return url"
   ]
  },
  {
   "cell_type": "code",
   "execution_count": 30,
   "metadata": {
    "collapsed": true
   },
   "outputs": [],
   "source": [
    "import time\n",
    "\n",
    "def now():\n",
    "    now = int(time.time())\n",
    "    print(now)\n",
    "    return now"
   ]
  },
  {
   "cell_type": "code",
   "execution_count": 31,
   "metadata": {
    "collapsed": false
   },
   "outputs": [
    {
     "name": "stdout",
     "output_type": "stream",
     "text": [
      "1492965934\n",
      "https://poloniex.com/public?command=returnTradeHistory&currencyPair=BTC_ETH&start=1477413934&end=1492965934\n"
     ]
    }
   ],
   "source": [
    "url = get_url(BTC_ETH, now())\n",
    "print (url)"
   ]
  },
  {
   "cell_type": "code",
   "execution_count": 34,
   "metadata": {
    "collapsed": false
   },
   "outputs": [
    {
     "name": "stdout",
     "output_type": "stream",
     "text": [
      "first 10\n",
      "[{'rate': '0.03880010', 'amount': '0.01288656', 'globalTradeID': 110956277, 'tradeID': 23022625, 'type': 'buy', 'date': '2017-04-23 16:45:28', 'total': '0.00049999'}, {'rate': '0.03880011', 'amount': '0.05804454', 'globalTradeID': 110956251, 'tradeID': 23022624, 'type': 'buy', 'date': '2017-04-23 16:45:24', 'total': '0.00225213'}, {'rate': '0.03880009', 'amount': '0.59000000', 'globalTradeID': 110956204, 'tradeID': 23022623, 'type': 'sell', 'date': '2017-04-23 16:45:19', 'total': '0.02289205'}, {'rate': '0.03880009', 'amount': '0.93050413', 'globalTradeID': 110956156, 'tradeID': 23022622, 'type': 'sell', 'date': '2017-04-23 16:45:16', 'total': '0.03610364'}, {'rate': '0.03880010', 'amount': '0.04372274', 'globalTradeID': 110956155, 'tradeID': 23022621, 'type': 'sell', 'date': '2017-04-23 16:45:16', 'total': '0.00169644'}, {'rate': '0.03880010', 'amount': '0.02577313', 'globalTradeID': 110956154, 'tradeID': 23022620, 'type': 'sell', 'date': '2017-04-23 16:45:16', 'total': '0.00100000'}, {'rate': '0.03880011', 'amount': '0.01847211', 'globalTradeID': 110956152, 'tradeID': 23022619, 'type': 'sell', 'date': '2017-04-23 16:45:14', 'total': '0.00071671'}, {'rate': '0.03883001', 'amount': '0.01917313', 'globalTradeID': 110956107, 'tradeID': 23022618, 'type': 'buy', 'date': '2017-04-23 16:45:03', 'total': '0.00074449'}, {'rate': '0.03883000', 'amount': '0.52799970', 'globalTradeID': 110956106, 'tradeID': 23022617, 'type': 'buy', 'date': '2017-04-23 16:45:03', 'total': '0.02050222'}, {'rate': '0.03883000', 'amount': '0.50788973', 'globalTradeID': 110956105, 'tradeID': 23022616, 'type': 'buy', 'date': '2017-04-23 16:45:03', 'total': '0.01972135'}]\n",
      "last 10\n",
      "[{'rate': '0.03878550', 'amount': '0.33533145', 'globalTradeID': 110177739, 'tradeID': 22972635, 'type': 'sell', 'date': '2017-04-22 03:25:02', 'total': '0.01300599'}, {'rate': '0.03878550', 'amount': '0.33533143', 'globalTradeID': 110177738, 'tradeID': 22972634, 'type': 'sell', 'date': '2017-04-22 03:25:02', 'total': '0.01300599'}, {'rate': '0.03878551', 'amount': '0.33453473', 'globalTradeID': 110177737, 'tradeID': 22972633, 'type': 'sell', 'date': '2017-04-22 03:25:02', 'total': '0.01297510'}, {'rate': '0.03879001', 'amount': '0.02577983', 'globalTradeID': 110177736, 'tradeID': 22972632, 'type': 'sell', 'date': '2017-04-22 03:25:02', 'total': '0.00099999'}, {'rate': '0.03878551', 'amount': '0.00079668', 'globalTradeID': 110177731, 'tradeID': 22972631, 'type': 'sell', 'date': '2017-04-22 03:25:01', 'total': '0.00003089'}, {'rate': '0.03879000', 'amount': '0.01235628', 'globalTradeID': 110177730, 'tradeID': 22972630, 'type': 'sell', 'date': '2017-04-22 03:25:01', 'total': '0.00047930'}, {'rate': '0.03879000', 'amount': '0.00000154', 'globalTradeID': 110177564, 'tradeID': 22972629, 'type': 'sell', 'date': '2017-04-22 03:24:41', 'total': '0.00000005'}, {'rate': '0.03879000', 'amount': '0.01600000', 'globalTradeID': 110177562, 'tradeID': 22972628, 'type': 'sell', 'date': '2017-04-22 03:24:40', 'total': '0.00062064'}, {'rate': '0.03882000', 'amount': '2.61455733', 'globalTradeID': 110177447, 'tradeID': 22972627, 'type': 'sell', 'date': '2017-04-22 03:24:04', 'total': '0.10149711'}, {'rate': '0.03881428', 'amount': '3.89952897', 'globalTradeID': 110177335, 'tradeID': 22972626, 'type': 'buy', 'date': '2017-04-22 03:23:40', 'total': '0.15135740'}]\n"
     ]
    }
   ],
   "source": [
    "import urllib.request, json \n",
    "with urllib.request.urlopen(url) as url_handle:\n",
    "    data = json.loads(url_handle.read().decode())\n",
    "    print(\"first 10\")\n",
    "    print(data[:10])\n",
    "    print(\"last 10\")\n",
    "    print(data[-10:])"
   ]
  },
  {
   "cell_type": "code",
   "execution_count": 39,
   "metadata": {
    "collapsed": false
   },
   "outputs": [
    {
     "name": "stdout",
     "output_type": "stream",
     "text": [
      "[{'rate': '0.03880010', 'amount': '0.01288656', 'globalTradeID': 110956277, 'tradeID': 23022625, 'type': 'buy', 'date': '2017-04-23 16:45:28', 'total': '0.00049999'}, {'rate': '0.03880011', 'amount': '0.05804454', 'globalTradeID': 110956251, 'tradeID': 23022624, 'type': 'buy', 'date': '2017-04-23 16:45:24', 'total': '0.00225213'}]\n",
      "[{'rate': '0.03882000', 'amount': '2.61455733', 'globalTradeID': 110177447, 'tradeID': 22972627, 'type': 'sell', 'date': '2017-04-22 03:24:04', 'total': '0.10149711'}, {'rate': '0.03881428', 'amount': '3.89952897', 'globalTradeID': 110177335, 'tradeID': 22972626, 'type': 'buy', 'date': '2017-04-22 03:23:40', 'total': '0.15135740'}]\n"
     ]
    }
   ],
   "source": [
    "import requests\n",
    "r = requests.get(url)\n",
    "js = r.json()\n",
    "print(js[:2])\n",
    "print(js[-2:])"
   ]
  },
  {
   "cell_type": "code",
   "execution_count": 59,
   "metadata": {
    "collapsed": false
   },
   "outputs": [
    {
     "name": "stdout",
     "output_type": "stream",
     "text": [
      "2017-04-20 12:23:07 UTC\n"
     ]
    }
   ],
   "source": [
    "lastdate = js[-1]['date']\n",
    "print(lastdate+\" UTC\")"
   ]
  },
  {
   "cell_type": "code",
   "execution_count": 64,
   "metadata": {
    "collapsed": false
   },
   "outputs": [
    {
     "name": "stdout",
     "output_type": "stream",
     "text": [
      "1492658587\n"
     ]
    }
   ],
   "source": [
    "import datetime\n",
    "endtime = int(datetime.datetime.strptime(lastdate + \" GMT\", \"%Y-%m-%d %H:%M:%S %Z\").timestamp())\n",
    "print(endtime)\n",
    "#1492799020"
   ]
  },
  {
   "cell_type": "code",
   "execution_count": 65,
   "metadata": {
    "collapsed": false
   },
   "outputs": [
    {
     "name": "stdout",
     "output_type": "stream",
     "text": [
      "https://poloniex.com/public?command=returnTradeHistory&currencyPair=BTC_ETH&start=1477106587&end=1492658587\n"
     ]
    }
   ],
   "source": [
    "url = get_url(BTC_ETH, endtime)\n",
    "print (url)"
   ]
  },
  {
   "cell_type": "code",
   "execution_count": 66,
   "metadata": {
    "collapsed": false
   },
   "outputs": [
    {
     "name": "stdout",
     "output_type": "stream",
     "text": [
      "[{'rate': '0.03952285', 'amount': '0.02857483', 'globalTradeID': 108958252, 'tradeID': 22896214, 'type': 'sell', 'date': '2017-04-20 03:23:07', 'total': '0.00112935'}, {'rate': '0.03959842', 'amount': '30.05133980', 'globalTradeID': 108958123, 'tradeID': 22896213, 'type': 'buy', 'date': '2017-04-20 03:23:05', 'total': '1.18998557'}]\n",
      "[{'rate': '0.04129989', 'amount': '26.89732569', 'globalTradeID': 108089410, 'tradeID': 22846216, 'type': 'buy', 'date': '2017-04-18 21:25:17', 'total': '1.11085659'}, {'rate': '0.04129400', 'amount': '24.89934015', 'globalTradeID': 108089409, 'tradeID': 22846215, 'type': 'buy', 'date': '2017-04-18 21:25:17', 'total': '1.02819335'}]\n"
     ]
    }
   ],
   "source": [
    "import requests\n",
    "r = requests.get(url)\n",
    "js = r.json()\n",
    "print(js[:2])\n",
    "print(js[-2:])"
   ]
  },
  {
   "cell_type": "code",
   "execution_count": null,
   "metadata": {
    "collapsed": true
   },
   "outputs": [],
   "source": []
  }
 ],
 "metadata": {
  "anaconda-cloud": {},
  "kernelspec": {
   "display_name": "Python [conda root]",
   "language": "python",
   "name": "conda-root-py"
  },
  "language_info": {
   "codemirror_mode": {
    "name": "ipython",
    "version": 3
   },
   "file_extension": ".py",
   "mimetype": "text/x-python",
   "name": "python",
   "nbconvert_exporter": "python",
   "pygments_lexer": "ipython3",
   "version": "3.5.2"
  }
 },
 "nbformat": 4,
 "nbformat_minor": 1
}
