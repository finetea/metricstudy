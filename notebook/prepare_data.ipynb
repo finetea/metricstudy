{
 "cells": [
  {
   "cell_type": "code",
   "execution_count": 1,
   "metadata": {
    "collapsed": true
   },
   "outputs": [],
   "source": [
    "\n",
    "trade_filename = '../data/trade_10k.csv'\n",
    "\n"
   ]
  },
  {
   "cell_type": "code",
   "execution_count": 2,
   "metadata": {
    "collapsed": true
   },
   "outputs": [],
   "source": [
    "def enc_type(buy_or_sell):\n",
    "    if buy_or_sell == 'buy':\n",
    "        return 0\n",
    "    elif buy_or_sell == 'sell':\n",
    "        return 1\n",
    "    else:\n",
    "        return 0"
   ]
  },
  {
   "cell_type": "code",
   "execution_count": 3,
   "metadata": {
    "collapsed": false
   },
   "outputs": [],
   "source": [
    "import csv\n",
    "\n",
    "trfile=open(trade_filename, 'rb')\n",
    "reader=csv.DictReader(trfile)\n",
    "trade=dict()\n",
    "limit=-1\n",
    "for r in reader:\n",
    "    trade[r['globalTradeID']]=[r['date'], enc_type(r['type']), r['amount'], r['rate'], r['total']]\n",
    "    limit = limit -1\n",
    "    if limit == 0:\n",
    "        break\n",
    "trfile.close()"
   ]
  },
  {
   "cell_type": "code",
   "execution_count": 4,
   "metadata": {
    "collapsed": false
   },
   "outputs": [
    {
     "data": {
      "text/plain": [
       "99999"
      ]
     },
     "execution_count": 4,
     "metadata": {},
     "output_type": "execute_result"
    }
   ],
   "source": [
    "n_trade=len(trade)\n",
    "n_trade"
   ]
  },
  {
   "cell_type": "code",
   "execution_count": 50,
   "metadata": {
    "collapsed": true
   },
   "outputs": [],
   "source": [
    "sample_size = 100\n",
    "data_size = 10\n",
    "lookup = 200\n"
   ]
  },
  {
   "cell_type": "code",
   "execution_count": 51,
   "metadata": {
    "collapsed": true
   },
   "outputs": [],
   "source": [
    "import random\n",
    "ix=random.sample(xrange(n_trade-(data_size*2)), sample_size)\n",
    "ix.sort()"
   ]
  },
  {
   "cell_type": "code",
   "execution_count": null,
   "metadata": {
    "collapsed": false
   },
   "outputs": [],
   "source": [
    "ix"
   ]
  },
  {
   "cell_type": "code",
   "execution_count": 53,
   "metadata": {
    "collapsed": false,
    "scrolled": false
   },
   "outputs": [],
   "source": [
    "trade_keys=trade.keys()\n",
    "trade_keys.sort()\n"
   ]
  },
  {
   "cell_type": "code",
   "execution_count": null,
   "metadata": {
    "collapsed": false,
    "scrolled": false
   },
   "outputs": [],
   "source": [
    "#checking sample values\n",
    "for x in ix:\n",
    "    #print x\n",
    "    #print trade_keys[x]\n",
    "    new_keys = trade_keys[x:x+data_size+1] #1 to calculate time difference from former data    \n",
    "    for p in new_keys:\n",
    "        print p, trade[p]\n",
    "        print \"--\"\n",
    "    key_lookup = trade_keys[x+data_size+1+lookup]\n",
    "    print key_lookup, trade[key_lookup]"
   ]
  },
  {
   "cell_type": "code",
   "execution_count": null,
   "metadata": {
    "collapsed": false,
    "scrolled": false
   },
   "outputs": [],
   "source": [
    "from datetime import datetime\n",
    "\n",
    "BULLISH_CRITERIA = float(0.005)\n",
    "FMT = '%Y-%m-%d %H:%M:%S'\n",
    "\n",
    "def cal_time_diff(s1, s2):\n",
    "    tdelta = datetime.strptime(s2, FMT) - datetime.strptime(s1, FMT)\n",
    "    return tdelta\n",
    "\n",
    "def get_prev_trade(trade_key):\n",
    "    if type(trade_key) == str:\n",
    "        return trade[str(int(trade_key)-1)]\n",
    "    else:\n",
    "        return trade[str(trade_key-1)]\n",
    "    \n",
    "def is_bullish(curr_price, last_price):\n",
    "    if float(curr_price) >= float(last_price)*(1.0+BULLISH_CRITERIA):\n",
    "        return True\n",
    "    else:\n",
    "        return False\n",
    "    \n",
    "for x in ix:\n",
    "    #print x\n",
    "    #print trade_keys[x]\n",
    "    new_keys = trade_keys[x:x+data_size+1] #1 to calculate time difference from former data    \n",
    "    for idx, key in enumerate(new_keys):\n",
    "        if idx == 0: #skip\n",
    "            continue\n",
    "     \n",
    "        prev_trade = trade[new_keys[idx-1]]\n",
    "        curr_trade = trade[key]\n",
    "        #print prev_trade\n",
    "        #print curr_trade\n",
    "\n",
    "        tdelta = cal_time_diff(prev_trade[0], curr_trade[0])\n",
    "        sec_delta = int(tdelta.total_seconds())\n",
    "        #print curr_trade\n",
    "        #rint sec_delta, curr_trade[1], float(curr_trade[2]),float(curr_trade[3]), float(curr_trade[4])\n",
    "    key_lookup = trade_keys[x+data_size+1+lookup]\n",
    "    #print key_lookup, trade[key_lookup]\n",
    "    last_price = float(trade[new_keys[-1]][3])\n",
    "    lookup_price = float(trade[key_lookup][3])\n",
    "    print lookup_price - last_price\n",
    "    print \"is bullish = %s\"%(is_bullish(lookup_price, last_price))\n",
    "    \n",
    "    print \"--\""
   ]
  },
  {
   "cell_type": "code",
   "execution_count": null,
   "metadata": {
    "collapsed": true
   },
   "outputs": [],
   "source": []
  },
  {
   "cell_type": "code",
   "execution_count": null,
   "metadata": {
    "collapsed": true
   },
   "outputs": [],
   "source": []
  }
 ],
 "metadata": {
  "anaconda-cloud": {},
  "kernelspec": {
   "display_name": "Python [conda root]",
   "language": "python",
   "name": "conda-root-py"
  },
  "language_info": {
   "codemirror_mode": {
    "name": "ipython",
    "version": 2
   },
   "file_extension": ".py",
   "mimetype": "text/x-python",
   "name": "python",
   "nbconvert_exporter": "python",
   "pygments_lexer": "ipython2",
   "version": "2.7.12"
  }
 },
 "nbformat": 4,
 "nbformat_minor": 1
}
