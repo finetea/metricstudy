{
 "cells": [
  {
   "cell_type": "code",
   "execution_count": 2,
   "metadata": {
    "collapsed": false
   },
   "outputs": [],
   "source": [
    "import pandas as pd"
   ]
  },
  {
   "cell_type": "code",
   "execution_count": 3,
   "metadata": {
    "collapsed": false
   },
   "outputs": [
    {
     "data": {
      "text/plain": [
       "u'd:\\\\Work\\\\notebook\\\\metricstudy\\\\notebook'"
      ]
     },
     "execution_count": 3,
     "metadata": {},
     "output_type": "execute_result"
    }
   ],
   "source": [
    "%pwd\n"
   ]
  },
  {
   "cell_type": "code",
   "execution_count": 4,
   "metadata": {
    "collapsed": false
   },
   "outputs": [],
   "source": [
    "T1 = pd.read_csv(u'd:\\\\Work\\\\notebook\\\\metricstudy\\\\data\\\\us_stock.csv')\n",
    "df = pd.DataFrame(T1)"
   ]
  },
  {
   "cell_type": "code",
   "execution_count": 5,
   "metadata": {
    "collapsed": false
   },
   "outputs": [
    {
     "name": "stdout",
     "output_type": "stream",
     "text": [
      "  market symbol\n",
      "0   NYSE      A\n",
      "1   NYSE     AA\n",
      "2   NYSE    AA$\n"
     ]
    }
   ],
   "source": [
    "print df.ix[:2,0:2]"
   ]
  },
  {
   "cell_type": "code",
   "execution_count": null,
   "metadata": {
    "collapsed": true
   },
   "outputs": [],
   "source": []
  },
  {
   "cell_type": "code",
   "execution_count": 6,
   "metadata": {
    "collapsed": true
   },
   "outputs": [],
   "source": [
    "import quandl"
   ]
  },
  {
   "cell_type": "code",
   "execution_count": 9,
   "metadata": {
    "collapsed": true
   },
   "outputs": [],
   "source": [
    "quandl.ApiConfig.api_key = 'b2NDGTGXH3GgR43iAeuL'"
   ]
  },
  {
   "cell_type": "code",
   "execution_count": 15,
   "metadata": {
    "collapsed": false
   },
   "outputs": [],
   "source": [
    "data = quandl.get(\"WIKI/MSFT\")\n"
   ]
  },
  {
   "cell_type": "code",
   "execution_count": 16,
   "metadata": {
    "collapsed": false
   },
   "outputs": [
    {
     "name": "stdout",
     "output_type": "stream",
     "text": [
      "Date\n",
      "1986-03-13     0.066159\n",
      "1986-03-14     0.068521\n",
      "1986-03-17     0.069703\n",
      "1986-03-18     0.067931\n",
      "1986-03-19     0.066749\n",
      "1986-03-20     0.064977\n",
      "1986-03-21     0.063205\n",
      "1986-03-24     0.061433\n",
      "1986-03-25     0.062614\n",
      "1986-03-26     0.064387\n",
      "1986-03-27     0.065568\n",
      "1986-03-31     0.064977\n",
      "1986-04-01     0.064387\n",
      "1986-04-02     0.064977\n",
      "1986-04-03     0.065568\n",
      "1986-04-04     0.065568\n",
      "1986-04-07     0.064387\n",
      "1986-04-08     0.064977\n",
      "1986-04-09     0.066159\n",
      "1986-04-10     0.066749\n",
      "1986-04-11     0.067931\n",
      "1986-04-14     0.068521\n",
      "1986-04-15     0.068521\n",
      "1986-04-16     0.070884\n",
      "1986-04-17     0.071475\n",
      "1986-04-18     0.069112\n",
      "1986-04-21     0.069112\n",
      "1986-04-22     0.067931\n",
      "1986-04-23     0.068214\n",
      "1986-04-24     0.075019\n",
      "                ...    \n",
      "2016-10-10    57.658029\n",
      "2016-10-11    56.813623\n",
      "2016-10-12    56.734150\n",
      "2016-10-13    56.545400\n",
      "2016-10-14    57.042109\n",
      "2016-10-17    56.843426\n",
      "2016-10-18    57.280530\n",
      "2016-10-19    57.151385\n",
      "2016-10-20    56.873228\n",
      "2016-10-21    59.297170\n",
      "2016-10-24    60.598549\n",
      "2016-10-25    60.618417\n",
      "2016-10-26    60.230984\n",
      "2016-10-27    59.729307\n",
      "2016-10-28    59.475985\n",
      "2016-10-31    59.525656\n",
      "2016-11-01    59.406446\n",
      "2016-11-02    59.038881\n",
      "2016-11-03    58.820329\n",
      "2016-11-04    58.323620\n",
      "2016-11-07    60.042234\n",
      "2016-11-08    60.062103\n",
      "2016-11-09    59.774011\n",
      "2016-11-10    58.313685\n",
      "2016-11-11    58.631579\n",
      "2016-11-14    57.737503\n",
      "2016-11-15    58.870000\n",
      "2016-11-16    59.630000\n",
      "2016-11-17    60.640000\n",
      "2016-11-18    60.350000\n",
      "Name: Adj. Close, dtype: float64\n"
     ]
    }
   ],
   "source": [
    "print data.ix[:,'Adj. Close']"
   ]
  },
  {
   "cell_type": "code",
   "execution_count": null,
   "metadata": {
    "collapsed": true
   },
   "outputs": [],
   "source": []
  }
 ],
 "metadata": {
  "kernelspec": {
   "display_name": "Python [Root]",
   "language": "python",
   "name": "Python [Root]"
  },
  "language_info": {
   "codemirror_mode": {
    "name": "ipython",
    "version": 2
   },
   "file_extension": ".py",
   "mimetype": "text/x-python",
   "name": "python",
   "nbconvert_exporter": "python",
   "pygments_lexer": "ipython2",
   "version": "2.7.11"
  }
 },
 "nbformat": 4,
 "nbformat_minor": 1
}
