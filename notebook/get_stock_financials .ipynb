{
 "cells": [
  {
   "cell_type": "code",
<<<<<<< HEAD
   "execution_count": 7,
=======
   "execution_count": 3,
>>>>>>> 9ffcaaaada721a4d940ec705ce3805088383420d
   "metadata": {
    "collapsed": true
   },
   "outputs": [],
   "source": [
    "import pandas as pd\n",
    "import csv\n",
    "import re\n",
    "\n",
    "%matplotlib inline"
   ]
  },
  {
   "cell_type": "code",
<<<<<<< HEAD
   "execution_count": 8,
=======
   "execution_count": 4,
>>>>>>> 9ffcaaaada721a4d940ec705ce3805088383420d
   "metadata": {
    "collapsed": false
   },
   "outputs": [],
   "source": [
    "#returns list of [market, stock_sybol] by querying database.\n",
    "\n",
    "MAX_LIMIT = 100000\n",
    "DATA_PATH = '..\\\\data'\n",
    "US_STOCK_FILE_CSV = DATA_PATH + '\\\\us_stock.csv'\n",
    "\n",
    "#limit means the number of results to be returned. 0 means everything\n",
    "def getSymbols(limit=10):\n",
    "    if limit <= 0:\n",
    "        limit = MAX_LIMIT\n",
    "\n",
    "    count = 0\n",
    "    stocks = []\n",
    "\n",
    "    with open(US_STOCK_FILE_CSV, 'rb') as stock_csv:\n",
    "        lines = csv.reader(stock_csv, delimiter=',')\n",
    "        for line in lines:\n",
    "            market = line[0]\n",
    "            stock = line[1]\n",
    "            m = re.search('^[A-Z]+$', stock)\n",
    "            if m:\n",
    "                stock = m.group(0)\n",
    "                stocks.append([market, stock])\n",
    "                count =  count + 1\n",
    "                #print count,\n",
    "                if count >= limit:\n",
    "                    break\n",
    "    return stocks"
   ]
  },
  {
   "cell_type": "code",
<<<<<<< HEAD
   "execution_count": 9,
=======
   "execution_count": 5,
>>>>>>> 9ffcaaaada721a4d940ec705ce3805088383420d
   "metadata": {
    "collapsed": true
   },
   "outputs": [],
   "source": [
    "#returns db column names from the dataframe arg. names are a form of string without special characters.\n",
    "\n",
    "def getFields(df):\n",
    "    res = []\n",
    "    y = df.iloc[:,0:1] #extract 1st column\n",
    "    #y.iloc[1:10].values\n",
    "    for z in y.iloc[:].values:\n",
    "        x=re.sub('[ /,\\.\\&\\-()\\']','',z[0]) #remove special chars\n",
    "        if isinstance(x, unicode):\n",
    "            x = x.encode('UTF-8')\n",
    "            #print type(x)\n",
    "        res.append(x)\n",
    "    return res"
   ]
  },
  {
   "cell_type": "code",
<<<<<<< HEAD
   "execution_count": 10,
=======
   "execution_count": 6,
>>>>>>> 9ffcaaaada721a4d940ec705ce3805088383420d
   "metadata": {
    "collapsed": true
   },
   "outputs": [],
   "source": [
    "def getTableName(data):\n",
    "    y = data.iloc[:,0:1]\n",
    "    val =  y.iloc[0:1].values[0][0]\n",
    "    if isinstance(val, unicode):\n",
    "        val = val.encode('UTF-8')\n",
    "    \n",
    "    if val.startswith('Revenue'):\n",
    "        return 'IncomeStatement'\n",
    "    elif val.startswith('Cash '):\n",
    "        return 'BalanceSheet'\n",
    "    elif val.startswith('Net '):\n",
    "        return 'CashFlow'\n",
    "    else:\n",
    "        return None\n"
   ]
  },
  {
   "cell_type": "code",
<<<<<<< HEAD
   "execution_count": 11,
=======
   "execution_count": 7,
>>>>>>> 9ffcaaaada721a4d940ec705ce3805088383420d
   "metadata": {
    "collapsed": false
   },
   "outputs": [],
   "source": [
    "#open files for fin values\n",
    "\n",
    "data_to_extract = {1:'IncomeStatement', #index in the dataframe, the name of financial data\n",
    "                    3:'BalanceSheet',\n",
    "                    5:'CashFlow'}\n",
    "\n",
    "#returns dic of fin data type and writer handle\n",
    "def openFinFiles():\n",
    "    stocks = getSymbols(1)\n",
    "    stock = stocks[0]\n",
    "    #print stocks\n",
    "    url = \"https://www.google.com/finance?q=\"+stock[0]+\"%3A\"+stock[1]+\"&fstype=ii\"\n",
    "    #print url\n",
    "    df = pd.read_html(url, encoding=False)\n",
    "    #print len(df)\n",
    "   \n",
    "    fin_files = {}\n",
    "    for k in data_to_extract.keys():\n",
    "        #print k\n",
    "        \n",
    "        ### get header string\n",
    "        x = df[k]\n",
    "        y = x.iloc[:,0:]\n",
    "        fields = getFields(y)\n",
    "        common_fields = ['symbol','date','period']\n",
    "        fields = common_fields + fields\n",
    "        header = ','.join(fields)\n",
    "        #print header\n",
    "\n",
    "        file_path = DATA_PATH + '\\\\' + data_to_extract[k] + '.csv'\n",
    "        print file_path\n",
    "        \n",
    "        f = open(file_path, \"wb\")\n",
    "        f.write(header)\n",
    "        f.write('\\r\\n')\n",
    "\n",
    "        fin_files[data_to_extract[k]] = f\n",
    "        \n",
    "    return fin_files\n",
    "        \n",
    "def closeFinFiles(fin_files):\n",
    "    for k in fin_files.keys():\n",
    "        fin_files[k].close()\n",
    "    return"
   ]
  },
  {
   "cell_type": "code",
<<<<<<< HEAD
   "execution_count": 12,
=======
   "execution_count": 8,
>>>>>>> 9ffcaaaada721a4d940ec705ce3805088383420d
   "metadata": {
    "collapsed": true
   },
   "outputs": [],
   "source": [
    "def getPeriodAndDate(column_value):\n",
    "    if isinstance(column_value, unicode):\n",
    "        column_value = column_value.encode('UTF-8')\n",
    "\n",
    "    column_value = re.sub('[\\n]','',column_value) #remove special chars\n",
    "\n",
    "    size = len(column_value)\n",
    "    period = column_value[:size-11]\n",
    "    date = column_value[size-10:]\n",
    "    return (period,date)    \n"
   ]
  },
  {
   "cell_type": "code",
   "execution_count": 9,
   "metadata": {
    "collapsed": false
   },
   "outputs": [],
   "source": [
    "#get values from fin tables for each stock\n",
    "\n",
    "def gatherFinValues(limit=10):\n",
    "    if limit <= 0:\n",
    "        limit = MAX_LIMIT\n",
    "        \n",
    "    fin_files = openFinFiles()\n",
    "        \n",
    "    stocks = getSymbols(limit) #get every symbol\n",
    "\n",
    "    for stock in stocks[:limit]:\n",
    "        market = stock[0]\n",
    "        stockname = stock[1]\n",
    "        url = \"https://www.google.com/finance?q=\"+market+\"%3A\"+stockname+\"&fstype=ii\"\n",
    "        print url\n",
    "\n",
    "        df = None\n",
    "        try:\n",
    "            df = pd.read_html(url, encoding=False)\n",
    "        except Exception:\n",
    "            print \"Exception has been caught while processing [%s:%s]. No financial data.\"%(market, stockname)\n",
    "            \n",
    "        if df is None:\n",
    "            continue     #skip the rest if there is no financial data for this stock\n",
    "            \n",
    "        #print 'num of data is %d'%(len(df))\n",
    "\n",
    "        if len(df) <= 1:\n",
    "            print \"Exception has been caught while processing [%s:%s]. No financial data.\"%(market, stockname)\n",
    "            continue    #skip the rest if there is no financial data for this stock\n",
    "        \n",
    "        #data_to_extract : this is declared already\n",
    "        \n",
    "        #columns_to_extract = [1,2,3,4]  #from 2015 to 2012\n",
    "\n",
    "        for k in range(0, len(df)):\n",
    "            data = df[k]\n",
    "            columns_to_extract = range(1,len(data.columns.values)) # all data columns\n",
    "            \n",
    "            for c in columns_to_extract:\n",
    "                #print getPeriodAndDate(data.columns.values[c])\n",
    "                tablename = getTableName(data)\n",
    "                (period, date) = getPeriodAndDate(data.columns.values[c])\n",
    "                \n",
    "                #common fields\n",
    "                fields = [stockname, date, period]\n",
    "                #row = '%s,%s,%s'%(stockname, date, period)\n",
    "\n",
    "                #data fields\n",
    "                y = data.iloc[:,c:c+1]\n",
    "                for z in y.iloc[:].values:\n",
    "                    try:\n",
    "                        val = z[0].encode('UTF-8')\n",
    "                    except AttributeError:\n",
    "                        print z[0]\n",
    "                        val = str(z[0])\n",
    "                        \n",
    "                    #print val\n",
    "                    if val == '-':\n",
    "                        fields.append('NA')\n",
    "                    else:\n",
    "                        fields.append(val)\n",
    "                \n",
    "                fields_str = ','.join(fields)\n",
    "                #print fields_str\n",
    "                \n",
    "                fin_files[tablename].write(fields_str)\n",
    "                fin_files[tablename].write('\\r\\n')\n",
    "\n",
    "    closeFinFiles(fin_files)\n",
    "    \n",
    "    #end of gatherFinValues   \n"
   ]
  },
  {
   "cell_type": "code",
<<<<<<< HEAD
   "execution_count": 14,
=======
   "execution_count": 10,
>>>>>>> 9ffcaaaada721a4d940ec705ce3805088383420d
   "metadata": {
    "collapsed": false
   },
   "outputs": [
    {
<<<<<<< HEAD
     "ename": "ImportError",
     "evalue": "html5lib not found, please install it",
     "output_type": "error",
     "traceback": [
      "\u001b[0;31m---------------------------------------------------------------------------\u001b[0m",
      "\u001b[0;31mImportError\u001b[0m                               Traceback (most recent call last)",
      "\u001b[0;32m<ipython-input-14-b85f8b2590a1>\u001b[0m in \u001b[0;36m<module>\u001b[0;34m()\u001b[0m\n\u001b[0;32m----> 1\u001b[0;31m \u001b[0mgatherFinValues\u001b[0m\u001b[1;33m(\u001b[0m\u001b[1;36m0\u001b[0m\u001b[1;33m)\u001b[0m\u001b[1;33m\u001b[0m\u001b[0m\n\u001b[0m",
      "\u001b[0;32m<ipython-input-12-4f696f2b425d>\u001b[0m in \u001b[0;36mgatherFinValues\u001b[0;34m(limit)\u001b[0m\n\u001b[1;32m     16\u001b[0m         \u001b[0mlimit\u001b[0m \u001b[1;33m=\u001b[0m \u001b[0mMAX_LIMIT\u001b[0m\u001b[1;33m\u001b[0m\u001b[0m\n\u001b[1;32m     17\u001b[0m \u001b[1;33m\u001b[0m\u001b[0m\n\u001b[0;32m---> 18\u001b[0;31m     \u001b[0mfin_files\u001b[0m \u001b[1;33m=\u001b[0m \u001b[0mopenFinFiles\u001b[0m\u001b[1;33m(\u001b[0m\u001b[1;33m)\u001b[0m\u001b[1;33m\u001b[0m\u001b[0m\n\u001b[0m\u001b[1;32m     19\u001b[0m \u001b[1;33m\u001b[0m\u001b[0m\n\u001b[1;32m     20\u001b[0m     \u001b[0mstocks\u001b[0m \u001b[1;33m=\u001b[0m \u001b[0mgetSymbols\u001b[0m\u001b[1;33m(\u001b[0m\u001b[0mlimit\u001b[0m\u001b[1;33m)\u001b[0m \u001b[1;31m#get every symbol\u001b[0m\u001b[1;33m\u001b[0m\u001b[0m\n",
      "\u001b[0;32m<ipython-input-11-f9d51c61dcdd>\u001b[0m in \u001b[0;36mopenFinFiles\u001b[0;34m()\u001b[0m\n\u001b[1;32m     12\u001b[0m     \u001b[0murl\u001b[0m \u001b[1;33m=\u001b[0m \u001b[1;34m\"https://www.google.com/finance?q=\"\u001b[0m\u001b[1;33m+\u001b[0m\u001b[0mstock\u001b[0m\u001b[1;33m[\u001b[0m\u001b[1;36m0\u001b[0m\u001b[1;33m]\u001b[0m\u001b[1;33m+\u001b[0m\u001b[1;34m\"%3A\"\u001b[0m\u001b[1;33m+\u001b[0m\u001b[0mstock\u001b[0m\u001b[1;33m[\u001b[0m\u001b[1;36m1\u001b[0m\u001b[1;33m]\u001b[0m\u001b[1;33m+\u001b[0m\u001b[1;34m\"&fstype=ii\"\u001b[0m\u001b[1;33m\u001b[0m\u001b[0m\n\u001b[1;32m     13\u001b[0m     \u001b[1;31m#print url\u001b[0m\u001b[1;33m\u001b[0m\u001b[1;33m\u001b[0m\u001b[0m\n\u001b[0;32m---> 14\u001b[0;31m     \u001b[0mdf\u001b[0m \u001b[1;33m=\u001b[0m \u001b[0mpd\u001b[0m\u001b[1;33m.\u001b[0m\u001b[0mread_html\u001b[0m\u001b[1;33m(\u001b[0m\u001b[0murl\u001b[0m\u001b[1;33m,\u001b[0m \u001b[0mencoding\u001b[0m\u001b[1;33m=\u001b[0m\u001b[0mFalse\u001b[0m\u001b[1;33m)\u001b[0m\u001b[1;33m\u001b[0m\u001b[0m\n\u001b[0m\u001b[1;32m     15\u001b[0m     \u001b[1;31m#print len(df)\u001b[0m\u001b[1;33m\u001b[0m\u001b[1;33m\u001b[0m\u001b[0m\n\u001b[1;32m     16\u001b[0m \u001b[1;33m\u001b[0m\u001b[0m\n",
      "\u001b[0;32mC:\\Program Files\\Anaconda2\\lib\\site-packages\\pandas\\io\\html.pyc\u001b[0m in \u001b[0;36mread_html\u001b[0;34m(io, match, flavor, header, index_col, skiprows, attrs, parse_dates, tupleize_cols, thousands, encoding)\u001b[0m\n\u001b[1;32m    872\u001b[0m     \u001b[0m_validate_header_arg\u001b[0m\u001b[1;33m(\u001b[0m\u001b[0mheader\u001b[0m\u001b[1;33m)\u001b[0m\u001b[1;33m\u001b[0m\u001b[0m\n\u001b[1;32m    873\u001b[0m     return _parse(flavor, io, match, header, index_col, skiprows,\n\u001b[0;32m--> 874\u001b[0;31m                   parse_dates, tupleize_cols, thousands, attrs, encoding)\n\u001b[0m",
      "\u001b[0;32mC:\\Program Files\\Anaconda2\\lib\\site-packages\\pandas\\io\\html.pyc\u001b[0m in \u001b[0;36m_parse\u001b[0;34m(flavor, io, match, header, index_col, skiprows, parse_dates, tupleize_cols, thousands, attrs, encoding)\u001b[0m\n\u001b[1;32m    724\u001b[0m     \u001b[0mretained\u001b[0m \u001b[1;33m=\u001b[0m \u001b[0mNone\u001b[0m\u001b[1;33m\u001b[0m\u001b[0m\n\u001b[1;32m    725\u001b[0m     \u001b[1;32mfor\u001b[0m \u001b[0mflav\u001b[0m \u001b[1;32min\u001b[0m \u001b[0mflavor\u001b[0m\u001b[1;33m:\u001b[0m\u001b[1;33m\u001b[0m\u001b[0m\n\u001b[0;32m--> 726\u001b[0;31m         \u001b[0mparser\u001b[0m \u001b[1;33m=\u001b[0m \u001b[0m_parser_dispatch\u001b[0m\u001b[1;33m(\u001b[0m\u001b[0mflav\u001b[0m\u001b[1;33m)\u001b[0m\u001b[1;33m\u001b[0m\u001b[0m\n\u001b[0m\u001b[1;32m    727\u001b[0m         \u001b[0mp\u001b[0m \u001b[1;33m=\u001b[0m \u001b[0mparser\u001b[0m\u001b[1;33m(\u001b[0m\u001b[0mio\u001b[0m\u001b[1;33m,\u001b[0m \u001b[0mcompiled_match\u001b[0m\u001b[1;33m,\u001b[0m \u001b[0mattrs\u001b[0m\u001b[1;33m,\u001b[0m \u001b[0mencoding\u001b[0m\u001b[1;33m)\u001b[0m\u001b[1;33m\u001b[0m\u001b[0m\n\u001b[1;32m    728\u001b[0m \u001b[1;33m\u001b[0m\u001b[0m\n",
      "\u001b[0;32mC:\\Program Files\\Anaconda2\\lib\\site-packages\\pandas\\io\\html.pyc\u001b[0m in \u001b[0;36m_parser_dispatch\u001b[0;34m(flavor)\u001b[0m\n\u001b[1;32m    668\u001b[0m     \u001b[1;32mif\u001b[0m \u001b[0mflavor\u001b[0m \u001b[1;32min\u001b[0m \u001b[1;33m(\u001b[0m\u001b[1;34m'bs4'\u001b[0m\u001b[1;33m,\u001b[0m \u001b[1;34m'html5lib'\u001b[0m\u001b[1;33m)\u001b[0m\u001b[1;33m:\u001b[0m\u001b[1;33m\u001b[0m\u001b[0m\n\u001b[1;32m    669\u001b[0m         \u001b[1;32mif\u001b[0m \u001b[1;32mnot\u001b[0m \u001b[0m_HAS_HTML5LIB\u001b[0m\u001b[1;33m:\u001b[0m\u001b[1;33m\u001b[0m\u001b[0m\n\u001b[0;32m--> 670\u001b[0;31m             \u001b[1;32mraise\u001b[0m \u001b[0mImportError\u001b[0m\u001b[1;33m(\u001b[0m\u001b[1;34m\"html5lib not found, please install it\"\u001b[0m\u001b[1;33m)\u001b[0m\u001b[1;33m\u001b[0m\u001b[0m\n\u001b[0m\u001b[1;32m    671\u001b[0m         \u001b[1;32mif\u001b[0m \u001b[1;32mnot\u001b[0m \u001b[0m_HAS_BS4\u001b[0m\u001b[1;33m:\u001b[0m\u001b[1;33m\u001b[0m\u001b[0m\n\u001b[1;32m    672\u001b[0m             raise ImportError(\n",
      "\u001b[0;31mImportError\u001b[0m: html5lib not found, please install it"
=======
     "name": "stdout",
     "output_type": "stream",
     "text": [
      "..\\data\\IncomeStatement.csv\n",
      "..\\data\\BalanceSheet.csv\n",
      "..\\data\\CashFlow.csv\n",
      "https://www.google.com/finance?q=NYSE%3AA&fstype=ii\n",
      "https://www.google.com/finance?q=NYSE%3AAA&fstype=ii\n",
      "https://www.google.com/finance?q=NASDAQ%3AAAAP&fstype=ii\n",
      "https://www.google.com/finance?q=NYSE%3AAAC&fstype=ii\n",
      "https://www.google.com/finance?q=NASDAQ%3AAAL&fstype=ii\n",
      "https://www.google.com/finance?q=NASDAQ%3AAAME&fstype=ii\n",
      "https://www.google.com/finance?q=NYSE%3AAAN&fstype=ii\n",
      "https://www.google.com/finance?q=NASDAQ%3AAAOI&fstype=ii\n",
      "https://www.google.com/finance?q=NASDAQ%3AAAON&fstype=ii\n",
      "https://www.google.com/finance?q=NYSE%3AAAP&fstype=ii\n"
>>>>>>> 9ffcaaaada721a4d940ec705ce3805088383420d
     ]
    }
   ],
   "source": [
    "gatherFinValues(10)"
   ]
  },
  {
   "cell_type": "code",
   "execution_count": null,
   "metadata": {
    "collapsed": true
   },
   "outputs": [],
   "source": []
  }
 ],
 "metadata": {
  "anaconda-cloud": {},
  "celltoolbar": "Raw Cell Format",
  "kernelspec": {
   "display_name": "Python [conda root]",
   "language": "python",
   "name": "conda-root-py"
  },
  "language_info": {
   "codemirror_mode": {
    "name": "ipython",
    "version": 2
   },
   "file_extension": ".py",
   "mimetype": "text/x-python",
   "name": "python",
   "nbconvert_exporter": "python",
   "pygments_lexer": "ipython2",
   "version": "2.7.12"
  }
 },
 "nbformat": 4,
 "nbformat_minor": 0
}
