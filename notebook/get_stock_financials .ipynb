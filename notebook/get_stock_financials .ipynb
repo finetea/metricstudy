{
 "cells": [
  {
   "cell_type": "code",
   "execution_count": null,
   "metadata": {
    "collapsed": true
   },
   "outputs": [],
   "source": [
    "import pandas as pd\n",
    "import csv\n",
    "import re\n",
    "\n",
    "%matplotlib inline"
   ]
  },
  {
   "cell_type": "code",
   "execution_count": null,
   "metadata": {
    "collapsed": false
   },
   "outputs": [],
   "source": [
    "#returns list of [market, stock_sybol] by querying database.\n",
    "\n",
    "MAX_LIMIT = 100000\n",
    "DATA_PATH = '..\\\\data'\n",
    "US_STOCK_FILE_CSV = DATA_PATH + '\\\\us_stock.csv'\n",
    "\n",
    "#limit means the number of results to be returned. 0 means everything\n",
    "def getSymbols(limit=10):\n",
    "    if limit <= 0:\n",
    "        limit = MAX_LIMIT\n",
    "\n",
    "    count = 0\n",
    "    stocks = []\n",
    "\n",
    "    with open(US_STOCK_FILE_CSV, 'rb') as stock_csv:\n",
    "        lines = csv.reader(stock_csv, delimiter=',')\n",
    "        for line in lines:\n",
    "            market = line[0]\n",
    "            stock = line[1]\n",
    "            m = re.search('^[A-Z]+$', stock)\n",
    "            if m:\n",
    "                stock = m.group(0)\n",
    "                stocks.append([market, stock])\n",
    "                count =  count + 1\n",
    "                #print count,\n",
    "                if count >= limit:\n",
    "                    break\n",
    "    return stocks"
   ]
  },
  {
   "cell_type": "code",
   "execution_count": null,
   "metadata": {
    "collapsed": true
   },
   "outputs": [],
   "source": [
    "#returns db column names from the dataframe arg. names are a form of string without special characters.\n",
    "\n",
    "def getFields(df):\n",
    "    res = []\n",
    "    y = df.iloc[:,0:1] #extract 1st column\n",
    "    #y.iloc[1:10].values\n",
    "    for z in y.iloc[:].values:\n",
    "        x=re.sub('[ /,\\.\\&\\-()\\']','',z[0]) #remove special chars\n",
    "        if isinstance(x, unicode):\n",
    "            x = x.encode('UTF-8')\n",
    "            #print type(x)\n",
    "        res.append(x)\n",
    "    return res"
   ]
  },
  {
   "cell_type": "code",
   "execution_count": null,
   "metadata": {
    "collapsed": true
   },
   "outputs": [],
   "source": [
    "def getTableName(data):\n",
    "    y = data.iloc[:,0:1]\n",
    "    val =  y.iloc[0:1].values[0][0]\n",
    "    if isinstance(val, unicode):\n",
    "        val = val.encode('UTF-8')\n",
    "    \n",
    "    if val.startswith('Revenue'):\n",
    "        return 'IncomeStatement'\n",
    "    elif val.startswith('Cash '):\n",
    "        return 'BalanceSheet'\n",
    "    elif val.startswith('Net '):\n",
    "        return 'CashFlow'\n",
    "    else:\n",
    "        return None\n"
   ]
  },
  {
   "cell_type": "code",
   "execution_count": null,
   "metadata": {
    "collapsed": false
   },
   "outputs": [],
   "source": [
    "#open files for fin values\n",
    "\n",
    "data_to_extract = {1:'IncomeStatement', #index in the dataframe, the name of financial data\n",
    "                    3:'BalanceSheet',\n",
    "                    5:'CashFlow'}\n",
    "\n",
    "#returns dic of fin data type and writer handle\n",
    "def openFinFiles():\n",
    "    stocks = getSymbols(1)\n",
    "    stock = stocks[0]\n",
    "    #print stocks\n",
    "    url = \"https://www.google.com/finance?q=\"+stock[0]+\"%3A\"+stock[1]+\"&fstype=ii\"\n",
    "    #print url\n",
    "    df = pd.read_html(url, encoding=False)\n",
    "    #print len(df)\n",
    "   \n",
    "    fin_files = {}\n",
    "    for k in data_to_extract.keys():\n",
    "        #print k\n",
    "        \n",
    "        ### get header string\n",
    "        x = df[k]\n",
    "        y = x.iloc[:,0:]\n",
    "        fields = getFields(y)\n",
    "        common_fields = ['symbol','date','period']\n",
    "        fields = common_fields + fields\n",
    "        header = ','.join(fields)\n",
    "        #print header\n",
    "\n",
    "        file_path = DATA_PATH + '\\\\' + data_to_extract[k] + '.csv'\n",
    "        print file_path\n",
    "        \n",
    "        f = open(file_path, \"wb\")\n",
    "        f.write(header)\n",
    "        f.write('\\r\\n')\n",
    "\n",
    "        fin_files[data_to_extract[k]] = f\n",
    "        \n",
    "    return fin_files\n",
    "        \n",
    "def closeFinFiles(fin_files):\n",
    "    for k in fin_files.keys():\n",
    "        fin_files[k].close()\n",
    "    return"
   ]
  },
  {
   "cell_type": "code",
   "execution_count": null,
   "metadata": {
    "collapsed": false
   },
   "outputs": [],
   "source": [
    "#get values from fin tables for each stock\n",
    "\n",
    "def getPeriodAndDate(column_value):\n",
    "    if isinstance(column_value, unicode):\n",
    "        column_value = column_value.encode('UTF-8')\n",
    "\n",
    "    column_value = re.sub('[\\n]','',column_value) #remove special chars\n",
    "\n",
    "    size = len(column_value)\n",
    "    period = column_value[:size-11]\n",
    "    date = column_value[size-10:]\n",
    "    return (period,date)    \n",
    "    \n",
    "def gatherFinValues(limit=10):\n",
    "    if limit <= 0:\n",
    "        limit = MAX_LIMIT\n",
    "        \n",
    "    fin_files = openFinFiles()\n",
    "        \n",
    "    stocks = getSymbols(limit) #get every symbol\n",
    "\n",
    "    for stock in stocks[:limit]:\n",
    "        market = stock[0]\n",
    "        stockname = stock[1]\n",
    "        url = \"https://www.google.com/finance?q=\"+market+\"%3A\"+stockname+\"&fstype=ii\"\n",
    "        print url\n",
    "\n",
    "        df = None\n",
    "        try:\n",
    "            df = pd.read_html(url, encoding=False)\n",
    "        except Exception:\n",
    "            print \"Exception has been caught while processing [%s:%s]. No financial data.\"%(market, stockname)\n",
    "            \n",
    "        if df is None:\n",
    "            continue     #skip the rest if there is no financial data for this stock\n",
    "            \n",
    "        #print 'num of data is %d'%(len(df))\n",
    "\n",
    "        if len(df) <= 1:\n",
    "            print \"Exception has been caught while processing [%s:%s]. No financial data.\"%(market, stockname)\n",
    "            continue    #skip the rest if there is no financial data for this stock\n",
    "        \n",
    "        #data_to_extract : this is declared already\n",
    "        \n",
    "        #columns_to_extract = [1,2,3,4]  #from 2015 to 2012\n",
    "\n",
    "        for k in range(0, len(df)):\n",
    "            data = df[k]\n",
    "            columns_to_extract = range(1,len(data.columns.values)) # all data columns\n",
    "            \n",
    "            for c in columns_to_extract:\n",
    "                #print getPeriodAndDate(data.columns.values[c])\n",
    "                tablename = getTableName(data)\n",
    "                (period, date) = getPeriodAndDate(data.columns.values[c])\n",
    "                \n",
    "                #common fields\n",
    "                fields = [stockname, date, period]\n",
    "                #row = '%s,%s,%s'%(stockname, date, period)\n",
    "\n",
    "                #data fields\n",
    "                y = data.iloc[:,c:c+1]\n",
    "                for z in y.iloc[:].values:\n",
    "                    try:\n",
    "                        val = z[0].encode('UTF-8')\n",
    "                    except AttributeError:\n",
    "                        print z[0]\n",
    "                        val = str(z[0])\n",
    "                        \n",
    "                    #print val\n",
    "                    if val == '-':\n",
    "                        fields.append('NA')\n",
    "                    else:\n",
    "                        fields.append(val)\n",
    "                \n",
    "                fields_str = ','.join(fields)\n",
    "                #print fields_str\n",
    "                \n",
    "                fin_files[tablename].write(fields_str)\n",
    "                fin_files[tablename].write('\\r\\n')\n",
    "\n",
    "    closeFinFiles(fin_files)\n",
    "    \n",
    "    #end of gatherFinValues   \n"
   ]
  },
  {
   "cell_type": "code",
   "execution_count": null,
   "metadata": {
    "collapsed": false
   },
   "outputs": [],
   "source": [
    "gatherFinValues(0)"
   ]
  },
  {
   "cell_type": "code",
   "execution_count": null,
   "metadata": {
    "collapsed": true
   },
   "outputs": [],
   "source": []
  }
 ],
 "metadata": {
  "anaconda-cloud": {},
  "celltoolbar": "Raw Cell Format",
  "kernelspec": {
   "display_name": "Python [Root]",
   "language": "python",
   "name": "Python [Root]"
  },
  "language_info": {
   "codemirror_mode": {
    "name": "ipython",
    "version": 2
   },
   "file_extension": ".py",
   "mimetype": "text/x-python",
   "name": "python",
   "nbconvert_exporter": "python",
   "pygments_lexer": "ipython2",
   "version": "2.7.11"
  }
 },
 "nbformat": 4,
 "nbformat_minor": 0
}
