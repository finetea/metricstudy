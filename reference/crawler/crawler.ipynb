{
 "cells": [
  {
   "cell_type": "code",
   "execution_count": null,
   "metadata": {
    "collapsed": true
   },
   "outputs": [],
   "source": [
    "# coding: utf-8\n",
    "\n",
    "import requests\n",
    "import re\n",
    "import pandas as pd \n"
   ]
  },
  {
   "cell_type": "code",
   "execution_count": null,
   "metadata": {
    "collapsed": true
   },
   "outputs": [],
   "source": [
    "#주식 종목 코드를 받아서 최근 5년 FS 데이터를 가져옴 \n",
    "def yearFS(code):\n",
    "    name = code.split(',')[1]\n",
    "    code = str(code.split(',')[0])\n",
    "    \n",
    "    YFS = 'http://companyinfo.stock.naver.com/v1/company/ajax/cF1001.aspx?cmp_cd='+str(code)+'&fin_typ=0&freq_typ=Y'\n",
    "    header={'Accept-Encoding': 'gzip, deflate, sdch',    \n",
    "    'User-Agent':'Mozilla/5.0 (Macintosh; Intel Mac OS X 10_11_5) AppleWebKit/537.36 (KHTML, like Gecko) Chrome/51.0.2704.84 Safari/537.36'}\n",
    "    \n",
    "    r=requests.get(YFS,headers=header)\n",
    "    res = re.sub('[\\t\\n\\r]','',r.text)\n",
    "    res = re.sub('<th class=\"bg r01c02 endLine line-bottom\"colspan=\"8\">연간</th>','',res)\n",
    "    res = re.sub('\\(IFRS연결\\)','',res)    \n",
    "    res = re.sub('/12','',res)    \n",
    "    df = pd.read_html(res,index_col='주요재무정보')[0]\n",
    "    df['code']=code\n",
    "    df['name']=name\n",
    "    return df\n",
    "    \n",
    "\n",
    "\n",
    "#주식 종목 코드를 받아서 최근 1년 분기별 FS 데이터를 가져옴 \n",
    "def quarterFS(code):\n",
    "    name = code.split(',')[1]\n",
    "    code = str(code.split(',')[0])\n",
    "    \n",
    "    QFS = 'http://companyinfo.stock.naver.com/v1/company/ajax/cF1001.aspx?cmp_cd='+str(code)+'&fin_typ=0&freq_typ=Q'\n",
    "    header={'Accept-Encoding': 'gzip, deflate, sdch',    \n",
    "    'User-Agent':'Mozilla/5.0 (Macintosh; Intel Mac OS X 10_11_5) AppleWebKit/537.36 (KHTML, like Gecko) Chrome/51.0.2704.84 Safari/537.36'}\n",
    "    \n",
    "    r=requests.get(QFS,headers=header)\n",
    "    res = re.sub('[\\t\\n\\r]','',r.text)\n",
    "    res = re.sub('<th class=\"bg r01c02 endLine  line-bottom\"colspan=\"8\">분기</th>','',res)\n",
    "    res = re.sub('\\(IFRS연결\\)','',res)    \n",
    "    df = pd.read_html(res,index_col='주요재무정보')[0]\n",
    "    df['code']=code\n",
    "    df['name']=name\n",
    "    return df\n",
    "    \n",
    "\n",
    "#주식 종목 코드를 받아서 최근 3년의 주요 지표를 가져옴 \n",
    "def yearSummary(code):\n",
    "    name = code.split(',')[1]\n",
    "    code = str(code.split(',')[0])\n",
    "    \n",
    "    YSum = 'http://companyinfo.stock.naver.com/v1/company/cF1002.aspx?cmp_cd='+str(code)+'&finGubun=MAIN&frq=0'\n",
    "    header={'Accept-Encoding': 'gzip, deflate, sdch',    \n",
    "    'User-Agent':'Mozilla/5.0 (Macintosh; Intel Mac OS X 10_11_5) AppleWebKit/537.36 (KHTML, like Gecko) Chrome/51.0.2704.84 Safari/537.36'}\n",
    "\n",
    "    r=requests.get(YSum,headers=header)\n",
    "    res = re.sub('[\\t\\n\\r]','',r.text)\n",
    "    res = re.sub('<th scope=\"col\" colspan=\"2\" class=\"line-bottom\">매출액<span class=\"span-sub\">\\(억원, %\\)</span></th>',\n",
    "                 '<th scope=\"col\" colspan=\"2\" class=\"line-bottom\">매출액<span class=\"span-sub\">(억원, %)</span></th><th>YoY</th>',res)\n",
    "    res = re.sub('<th>금액</th><th>YoY</th>','',res)\n",
    "    df = pd.read_html(res,index_col='재무년월')[0]\n",
    "    df['code']=code\n",
    "    df['name']=name\n",
    "    return df\n",
    "    \n",
    "\n",
    "#주식 종목 코드를 받아서 최근 3년의 주요 지표를 가져옴 \n",
    "def quarterSummary(code):\n",
    "    name = code.split(',')[1]\n",
    "    code = str(code.split(',')[0])\n",
    "    \n",
    "    QSum = 'http://companyinfo.stock.naver.com/v1/company/cF1002.aspx?cmp_cd='+str(code)+'&finGubun=MAIN&frq=1'        \n",
    "    header={'Accept-Encoding': 'gzip, deflate, sdch',    \n",
    "    'User-Agent':'Mozilla/5.0 (Macintosh; Intel Mac OS X 10_11_5) AppleWebKit/537.36 (KHTML, like Gecko) Chrome/51.0.2704.84 Safari/537.36'}\n",
    "\n",
    "    r=requests.get(QSum,headers=header)\n",
    "    res = re.sub('[\\t\\n\\r]','',r.text)\n",
    "    res = re.sub('<th scope=\"col\" colspan=\"2\" class=\"line-bottom\">매출액<span class=\"span-sub\">\\(억원, %\\)</span></th>',\n",
    "                 '<th scope=\"col\" colspan=\"2\" class=\"line-bottom\">매출액<span class=\"span-sub\">(억원, %)</span></th><th>YoY</th>',res)\n",
    "    res = re.sub('<th>금액</th><th>YoY</th>','',res)\n",
    "    df = pd.read_html(res,index_col='재무년월')[0]\n",
    "    df['code']=code\n",
    "    df['name']=name\n",
    "    return df\n",
    "\n"
   ]
  },
  {
   "cell_type": "code",
   "execution_count": null,
   "metadata": {
    "collapsed": false,
    "scrolled": true
   },
   "outputs": [],
   "source": [
    "#f = open('./allstockcode.txt','r', encoding='utf-8')\n",
    "f = open('./allstockcode.txt','r')\n",
    "for k in f.read().splitlines():\n",
    "    yearFS(k).to_csv('./yearFS.csv',encoding='euc-kr',mode='a') # csv 파일로 저장 \n",
    "    quarterFS(k).to_csv('./quarterFS.csv',encoding='euc-kr',mode='a') # csv 파일로 저장 \n",
    "    yearSummary(k).to_csv('./yearSummary.csv',encoding='euc-kr',mode='a') # csv 파일로 저장 \n",
    "    quarterSummary(k).to_csv('./quarterSummary.csv',encoding='euc-kr',mode='a') # csv 파일로 저장 \n",
    "\n",
    "f.close()"
   ]
  },
  {
   "cell_type": "code",
   "execution_count": null,
   "metadata": {
    "collapsed": true
   },
   "outputs": [],
   "source": []
  }
 ],
 "metadata": {
  "anaconda-cloud": {},
  "kernelspec": {
   "display_name": "Python [Root]",
   "language": "python",
   "name": "Python [Root]"
  },
  "language_info": {
   "codemirror_mode": {
    "name": "ipython",
    "version": 2
   },
   "file_extension": ".py",
   "mimetype": "text/x-python",
   "name": "python",
   "nbconvert_exporter": "python",
   "pygments_lexer": "ipython2",
   "version": "2.7.11"
  }
 },
 "nbformat": 4,
 "nbformat_minor": 1
}
